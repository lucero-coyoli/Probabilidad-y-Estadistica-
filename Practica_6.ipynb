{
  "nbformat": 4,
  "nbformat_minor": 0,
  "metadata": {
    "colab": {
      "provenance": [],
      "authorship_tag": "ABX9TyNmaFb11BpfyNS4Mbq3hRWo",
      "include_colab_link": true
    },
    "kernelspec": {
      "name": "python3",
      "display_name": "Python 3"
    },
    "language_info": {
      "name": "python"
    }
  },
  "cells": [
    {
      "cell_type": "markdown",
      "metadata": {
        "id": "view-in-github",
        "colab_type": "text"
      },
      "source": [
        "<a href=\"https://colab.research.google.com/github/lucero-coyoli/Probabilidad-y-Estadistica-/blob/main/Practica_6.ipynb\" target=\"_parent\"><img src=\"https://colab.research.google.com/assets/colab-badge.svg\" alt=\"Open In Colab\"/></a>"
      ]
    },
    {
      "cell_type": "markdown",
      "source": [
        "![logo.jpg](data:image/jpeg;base64,/9j/4AAQSkZJRgABAQAAAQABAAD/2wCEAAkGBxMTEhUTExMWFhMXGB0bGRgYGBsdGRsYHR8gHx8gIB8fHikgHh0mGxggIzIiJykrLjMuHSA1ODMtNygtMC0BCgoKDg0OGxAQGy0lICItLS0uLi0tLS0tLS0yLS0tLS0vLS0tLS8tLS0tLTAtLS0vLS0tLSsvLS0tLS0tLS0tLf/AABEIAOIA3wMBIgACEQEDEQH/xAAcAAACAwEBAQEAAAAAAAAAAAAABgQFBwMCAQj/xABPEAACAQIEAwQGBgcFBQQLAAABAgMEEQAFEiEGMUETIlFhBxQycYGRI0JSYnKhFSQzQ4KSsTRTorLBg8LR0vAWY6PxFzVEVGRzdJPD0+H/xAAYAQEBAQEBAAAAAAAAAAAAAAAAAwECBP/EADQRAAIBAgIIBQMEAQUAAAAAAAABAgMRITESIkFRYXGx8DKBkaHBQtHhBBOS8YIjM0RScv/aAAwDAQACEQMRAD8A3HBgwYAMGDBgAwYMGADBgwYAMGF7ifjGmorLIxeZraYY+9IxPLboD4nn0vhfWkzbMd5X/R9Mf3ce87DzbYr/AIfNTgUjSbV3ghpzvimjpP7RUIjfYvd/5Vu3xtha/wDSJJN/YcuqagdHYdnGfMNYj52xVvNkWVnYCoqAdztNJq8yfo0b3aTiWOLM2qv7Hl3ZJ0kqCRt42JT8tWNLKkkr2827LvzJXrPEEvsw0dOPB2ZmHxUsPywfobPW3bMoE8khVh82S+KvL6HNqwyA5tCvZtpdaddWhvskhU3HhqJxyquEnWZKeXOauSokBZY0L30DmxvKQi9LsQCdhc7YG3itsfS/Uuf0Fng5ZpEfI08YH5Jg0cQx/WoZx4d8E/kov8cVMHBgMTypnNUiRlhIzuy9mye0Gu62tb5WI2IOPdNkGZrGklPnLOr20dvG41X5ftNZ358uW/LAaUXtj/G3RFkeNa+D+15VMF6vAwkHyFwB72xaZL6QcvqTpWcRvy0S9w38Lnuk+QJxQ/pjPaY2lpYatVFyYTZ/kN+nSPEaXirKK49lX0xgm5HtkII/2i2ZR+LTgHTTx0f4u/sagDgxnUXCtXSqJcpre0hO4p5mDxsPuMNgPdp82xZZHx/G8nq1bG1HVfZk9hug0v59L7HoWwIulti79fQc8GDBjCQYMGDABgwYMAGDBgwAYMGDABgwYMAGDBgwAYQs14qnrJWpMqAOnaWrO8cY+50ZvPfyB9oRs1zGXN5no6RylChtUVA/eeMcfiD48jzPdsH+ZrnopiuVZPEGqBszDdYvtMxOxfxLbA2vc93GnphTtnn7Li/sD/o/JBqctU177lj3pnJ67k9mpPXmfvEYrp4q7MnVK2pWiikBMdGjqs8q/hYgm/39rj2Bi14a4YipqrsnkEuYvC07Tyd4rdgn0atzNybud9h0awZeKMqhmjVpoFn0HSyaA2pHIDAX9mxs4NxbQNwCTgZKqk9XF738IWajKoaDLJqmhpdNVGh3kAeZGDBZN9xdQGbu9w2B3BxLrJZVzHLpaSaSSlqkcSxl2ePs1TWko1E6d2ALC1+6OuKxOLKaheSnoTUV0kjArHrMixkAKQJTqdlsF279rHcdPUeTZ1Wbyzx0ETfUhH0njuVN+v8AedeWBjpyetN25/bMt6AtS5hmMkilYJuxdGYqq9osZWQXZl+yp+eKnMszpI82izBKymdTTmCWMTJqUatSsm9m72xBIsNxfliLUcF5NTsTW1hll69rOA3yWz/MnHH9JcMR7BEe3jHM/wCbjfCx0qMXlpPkjxVep1FDmFO2Y0yS1lQ0w7/dQak7NSevdiUMR1Jtewu85fmhqJoeylhMARu0UPFIe0GnRoKkm1i9ybcltbfCT+muGW2MSL59jIP8ovj0vDnD1TYQ1AiY8rTFWv5LNf8AphY10YrNSXkM+WQipzaoqGTuUsSQQlhzd7vK6336ql/JrdbxJe0zCmnqZKaCaEF/VoGQ9q6xkqSZNXceQqQukd0EXvc2h/8AZHM6XvUOYmVOkVRuCPAE6h8gvvxHynjRqOQRZhSyUmpibxjVAzsSzMBuRdjchGYXNyBc4HCpPODv19DpV8DVNCe2yupKXO9PKwKOfAFtieg1AN94Y+wcSUmYfqOa04gqRsA91Go7XRzuhPQE2OwBa+PtfmtHHLUZhVutRchKGIEOGjMaX7FOrvKzKzbkAWJA2xZ0HCnruWwJmKfrOgnWNpI9RJCgm57qkKVN+W9zgaqt3r579v5KztqzJSBIXq8svYPzlgHS/ivTw8NOwOgZbmEU8aywuHjYXDD/AKuCDsQdwcZxQ5zU5TIKTMT21E/diqLE2H2WBuSLc1NyBexYcutfQyZS5raH6XL5LNNApuEB/eRnlpt16Dn3bFB1OGlzeT2P7M0vBiJlWYxVESTQsGjcXBH5g+BB2I6EYl4w8rVgwYMGADBgwYAMGDBgAwYMGADCHxrmctVOMqpGszi9TKP3UW11/EQeXmo+sSL/AI04hFDSvNa8h7sS/akbkLdQN2PkDhVp2/Q2XPUTd+vqDqa+5aZrkKbfVS5Jt11W5jGl6Ufq25Ln+A4hzH1VYsnytf1hhYsDvEp3LM32yO8T0G/VcTMlpKfKTFS6ZDLPu1QI79rICCYwd7WUs2n7IaxLXOIOR8LVlPSvOqJLXT/STiVipZCbmFXU/RuQbl7WvYcrFbzMs8oqjL5ZKhZEiTuyI6lZklW1lF/3oaxVgedjfrgKkvoj58X3kcuLJaMk1Uk8tPNRuUWWOwZi6KxjAZWWUEMNrGxB5WOKCCkrs570jNSZcegt2s45am2sQQOdtPKwbnjnw7kfrdsxzACOjjUtT07MSgTmXctu2o94s27nc7WBltNU52xSItTZWCVLgWkntsQL8l6W5eNzdVFIxUMs1m9i4Lez1DxBSUhNHlFL6zUfWKewD4ySn2vnp6XHLEleEswrO9mFcyIf/Z6XuqB4FuvuIb34Z8npKOjApoOyjbY6Aw7Rul2udTE+JxcYE3Vs9X1eLFjLPR/lsA7tLGx8ZLyH/HcD4AYv4KGJBZI0UfdUD+gx3JxV1vEdLF7UoO5HcDPuASQdANrAE7+Bxje8k5Slm7k+SljbZkUjzUHFLmPBOXzA66SK55lF0N80scWeX5tBMPopFbntyOxIOxseYPTE3AKUo5Mz2T0eTU12yyulgPPspDqiJ+Vh7yrHHBuMXi/Vc7owqPsJlXXA/vG/v2JPiq40nFBmOeZfJrgmlhdd1dXsV253J7ot79reWF95VVdLxq/Hb6/cUZuFpqT9cyWbXE3eanLa43X7pv3vidXOzdMNPB3GENepABjqE/aQt7SkbEjldb7XtcciBhUrsmqcnY1NAWmoSdUtOxJ0jqync2t9bcjbVqAuO2a5VFmUa5nlj9nWJvtZSzAbo45B7bXNwwIBupBGlZJTWs+T+GPubZZFUxNDMgeNhYg/kQeYIO4I5YzbIczbKZxR1Egly6YsIJjYqhvZlboADsw5A77Am0ul4glzOEIZTSrHda5I0f1i42HZ8ykbd4MbalIt4nEjKsnpq6mqKeKnMGXoEWnZkZGMqhi8yq9mt3kGo7tZ79cCUXoNwnl3iiPIpySsDC/6LqXsw6QSnr+Gw/lH3BfSVN9xyxm3BtR6xFUZNmAvNCNIN92jFtJUnql1IPgUPQ4sPRxmMkZlyupP09L+zb7cH1SPcCPcGUcwcDqrBtXea91sY9YMGDGHmDBgwYAMGDBgAwYMV/EGZimpppz+7RmA8SBsPibD44GpXdkJzj9I5zbnTZeL+TVDf8pHwMZ8cRqFf0pm7SnekoO7GOjTX5+feW/8Efjjjlc5y7IXqSf1iovJq6mSbZD8Es5Hk2LngeWky+mp6SWeGKplAkaN3VXLychYnmBZB46caeqT0E2tmqvl97x3xmSx/pmvN98tpG2H1ZpuvkR/u2/vDi99J+dPBSCGG5qKphDGBz72zEfA6QehZcVGfwmgoKbK6T+01J7MMNue8sniBvbyB29nA5pRsrrN4LhvZ5qi2dVRgQlcspmAkZTbt5R9UEfVHl035lSL7jTiBMup0VFCixAVdgsaL0A+AsOl7bjF1w9k0dJTx08Q7qC1+rN1Y+ZO+My9KdGZKtpS4Ahji0rcFnYM7aVXxLtGLkWsw52xzJ2RxKWk7LJZd8SHK8csyEQkkyDtlAWxlCorsq+0V1gnUdydwTcXfPR/n7zwqkxvLYlSebKCQb/eUjfyI88JNLOIpImJkBMYu6ykxszKqX2AKg9O9qvte+kYXBmzwSR6WCEBmDq1rnYNYXJKki+rkWL/AB80W4u5RpTVh94u4jm9ZmiBbslVQiRi7O4dSSSBcN3XFr20rfnhdScsillIs8q9SLmMnn4gn42OLvMGigp4Z5mjaaVAxsFXUZO8zm9jtqPMgb2tytQVskEcSkSQksCQqur6LgkXs571iRe/gelsSTnUbvFqzefPA6jZJWJHbkP2oLKewezKzKR3yL3XrZhte/eU2sb4aOBuMidNPWSAyM30UtrBgbWRz/eAm1+vd6kakSHM4CkoLLcpJ3b23KqBbwsdxvyU+O3KqqIZY+zFQFAOvVcqe+sSnoRcOvLpdjsBfFIOUWJwUjVeP+IOwhMMbfTyqQLc0U7M224Nr6fPfocZbmMLMbxMFHZRxqRbmsCBrAm3IlferdMeZKpJaiYiQIV77MNZUNtezqfEkDvbW62OOUFSWES2ZUVpRKF3YBbKxFjsCistiLkKTa5IwneTxRkUoLAe+E+KDFVJSTOGWYuEa91EwZjZT9hl9m9vZHUkY5cR5c+UVP6QpFvSSECpgHIXOxUcgLnb7LG3stYIldXHsxMV70cqTagb6fpFduZ5Anaw6nxx+hKqnSRGjdQyOCrKeRUixHyxejK8Thy0JcHmjOOMafs2izzLyGsAZlHKSI2Fz7hs1xtYHYpiRmtZVZhpEVQkFDKisnZsFqJ9WzqXbaLQdm0Bm2+9YcOCWNFWT5POdULgvTlt9SMDqXzuoNxy1JJ4498CXoa+oyuTeMkzUpb7J5gX66fzSQ9cVOqkLxtuxXFfgj8dZNLSrBmEK2ejZU9suz09gBrJFyQzMl9yUbUTfYSONpxoo87prns9PaAc2gk2sfMFivkWPhjQq2lWWN4nF0dSrDxVhY/kcZz6OYtUNdlFRv2TOo845Lgkfxd//aDAU53jd/T0Zo9LULIiyIQyOoZSORUi4PyOOuEn0T1rGkellP0tJK0Le4Hb4c1H4cO2MITjoyaDBgwYHAYMGDABhE9Ljl6eCkU2NVUxxn8N73+DacPeEPij6XO8ti5iNJZT8QbH+aMY1FaPjvuu/REX0iRCery3LgB2Zk7R16aEFgPdoEgxbZhAC8lNU5a1THK7ESoImVgxuNet1aN0FlvuLKCCPZC5m1Qz53VMoYvT0WiPSQD2rhQgUtsGLVFgTthky/i2QNFBJl1fGWZU7R1R4xcgXeRXNufhz2wNq4KMeHUpMoo+3zhIyxeLLKZEBY31TMoGok7kkE3J6xjE7hpfXM2q6w7x036tD4ah+0PvuTv4PiH6N6oLSZhmLfvJpZb/AHEBYfIswxdeiqiMeWwlvbl1SsfEuxIJ89OnArU1U+Fo/L74jdjHvSDE/rszHkWhWIddfZkh+e+5IGxtpJHLGw4yb0jZeI8xjlY6zUxSW2sYooEDOFPMmTUV6W1HmbWnUWqeem7MT3Nox7KoXZrkgD/q+nfFXxFAEOwADFivW4UBefUDbe++LioW1wLkGZ0UbHuqDbpyIAO3j78L+fTXIAFlXWVN+jiNt97XHW21+WIUlrntg9ZczS6LgeOssjzyDsU0x6tLHRfYGwF9Nxv1vta2Jh9DsNv7Q9/wi3y9/ni/h/V6sWWysdNhcjTtYm48COV9xz5jEau4ikqqcyQlooe1aGTl2h7wW6sD3BpLG/MEcx17/TVJSTU84tp9V7NHE5TTTg8H31uUx9DsX/vLW/D/AP3EXMvRbBBGZHmdwLDSLISSwA3s3jyt8cNWYcUijnaGQh4YoQzd68/MAtu3eUAkkDfla/LHriurEkkUYa0YXtGPkeR94UMbfeGH6qs6VJyjnkubwXuKUqsppN4fGbMXysgGZVFkZ1HeJNlAkbcqu57oHIA38bDE7LAY93DCO6gGxs2sAD/Pfe3dN8eMlpQ1S8dtu2QEc9gJDz68vDFrmbo+hr6xJJHcXBN+zXVqHT6RLb+I8cc1FrY8DqpLWfl0RVZxGYoZQmgqiORcKbqjqLHVzB0KbLvbUb2x+iwcYDnNLGWhjYDsZnSKQG/0YlkPfTfZwGNibg6bEGwtvVLDoRUuW0qBc2ubC1zba5x3RyPLVzEP0u0TJHBXxD6WllU38UYjY+I16R7mbxxG9I84CUGbw3PZOhNuZhkANj/l/wBocPPEVB6xSzw/3kTKPeQbH4Gxxn3DR9c4cliPeaNJFA+8h7SMfAFcXLUpaqb2O3kzT1lUqGBGki9+lud8ZrV1UcWfU1RE6tFVo8LspuDIhKEfB0jHwOINLQesUFHVLl36QbshEUap7NVaIlAxRu49wu7e13V5gkiLxbl8tLRUVTLBFBJHWa+xhtoiRu8EFtr/AEKkkbFiT1wRxSjao4c0M+W/q+f1EfJKunWUD76HT/o5+OH7CFxr9HmuVTjq8kRP4wFUf4zh9wOKuKi+HTAMGDBjCQYMGDABhEkGriNfu0P/AOQ/82HvCHKdPEa/eodv/uH/AJcaitL6uTK/h8sc3zZlRHf6JQrtpUg2BubHovgeXLDfXZhUJG/bQxqCj2aOYvYhGbvBo0sO7bbVuRtbfCRl1BDLmmbQVBIjfsWNnKE2ZGUBlIIuzKNjc3t1w0JwVRU6SSRRt2hjZVaSWSSxdSvdEjkKxvpuN9yOpwZtbxrkuiFnIRo4Xc9TDPf4u6/0w/cLw6KKlQfVgjHyQYQsg7/C7jqIZ/8AC7n+mH3habXRUr/agjPzQYM7r/V/6ZaYyTj7MhLmEkZ29XhEa/avKBLI48tEaRi/UtjW8ZRx+h9flNtjFTi/mfWtsSq+ElT8Qq1hSSMPbd5peh21JY+8dOXK45HC5xEtinmjn8wP9MXlPETTLzLGpkAHvVrD8hj1JkgqHQs9oVik76/XOptITY82CDcX+kWwJvbzQmozTeR7ItRs+KNh4vgcR9uilmjClVBVe8rAg787AsbE2sDtvjPcxrs4TtFpqXsYO0ZgYIRdt+ZIJJNlHeFibe7GlcP5l69Sa2ieBtToUcd5Wjcrv0O6g25cxvjhRySxU0ka37QNIsdrMRszC1/aIYMoB5kDob49STU8Mn1/roeaNVRjir237u+pn1NmWcFi8lG1VEFW6zRKLSBQSR3dZIkv3RffYWOGChlqKqdZHp9BYR6gGGy93Vsw3AVjf8QAvi4yDOaqZJWaMgq9gjjSwDWsoNgCRe9yBtb34n5WStNJLHGTLpYhSGALBbqq/aW+wYcxbwxn6ijpSUZLJ39MvcQ/VRnDSikrq33Mh4WjvmLr/wDED/LNiqiiN3S3fD+F99EVvzXDnkuXRrmUbIZVdpmMiPE4BYB1OliAoUFmNwzatrAAE4WK9F7RuRLAFvf7Iv56FX8seapNSTkuXQunpSXl0K7OjI4njdhpQHTIXAAKGy77WJZgRz5t8P0Pw/VPLSwSyoUkeJGdCCCrlQWBB3FjfH59zUHssxXmQGHhyMf/AJ4/SCHYYvReDPPWWKPuM59EMY7Kvh+qtU628tIX+i40bGd+iBgY66X6rVbm/lYN/RsXEP8Abl5Fd6O61xlUCJUx0v0kv0siBhsdWgamVQx1ltydlaw5kePSEzvlk5etiq9MkJBjVF0ElgQQrNzB5+/Hz0ecRGiyyJjS1M6M0js0CB9ADabsCwNjpPK/I46ekrieOqy6dEinjKtDcTRNGbszmwDC5sIjvy39+G0r/wAn/L5LH0gvdMpk6+twH5gH/TGiYzz0hpZcpi6+twD5WH+uNDwJVPBHz6hgwYMYRDBgwYAMIXFH0Wd5ZLyEiyxH4A2H80gw+4RPS7GUp4KtRdqWpjk/hva3xbTjUVo+O2+69UUudUbfpypiUkPV0R7Mhih7QKNNmAJU3p/aANueGmg4BpEeOZu3aaNg4aSplksw36tpPhuMUPpMlENRl2Yqe4smh2H2H71x/B2nzxf0/DE8qWrcwnlJXvRw6YI9+e8YEhHvfffbpgbVxUZcLehT+jOmBpK6gb91PNFb7jCw+Z1YtvRZVl8uiRtpIS0LjwZGIA/l04rKRxS57It/o66IEHp28Q3Hv0hj73GJGRN6pm1VSnaOrHrMPh2nKVfxG2q3gMClTWvxtL798B4xk3pCJGZ2sdJjpLnoD2lQAPebn+U+WNZxlfpG/wDWA/BSH/xanEqvhI0vEKmX/sof/rD/AEYf1B+WCJgsSSM+ns7go8ReNrhhc6ULAjUbHf2X2tcjzlxtDERdrVjE8z9Vtv6CwxBqGm9VYJqPdR5WUkFQNYJ2+qe1uff4Y8sYpyS3nqtpYcTdeGZj6t2ryMUa7r2iqnZx9F2J2AF9RJJuTfoItRUuZO0iBX2gwuCsgDWU8rAEA969xsNzcYScq9J1OKIRTRkSqukoq9x1H2Sb6Tp+0LX2v1x1b0j0egj6bUSxuAwNiLAA3Gk8rm/O588e6x5nRqJ20WNMtRIyKRIxS2qyqoDXIBuel7Hlp0lidzpGLvtBPTuo5shBVHIIuCBZhYqfA7Ee8YzCl4+ogoSSOQoCToAOmxBFt2JHUkCw3AvYEGRlfpOpYSSe1ZStyNC6jILAbkgAWHjzbkOqzM/Zqf8AV+hzymqSatQpNIJoXF0azoPpyJO8Rq1FJCmxAFzZbAErWbRgTMPu2O//AHkn52tj1wfIyyz1RRrPqdRYnYuZLlgLAdwqGNgxDAbgjHjMJVeaRl8SfMqWJA99yf8AoY8dZKKaR6ow0ZWISsGSuMhNmRiSBc3OkXt1F+Y8L2x+h8vN4oz9xf6DH59pE1LUWBOoEADe/wBIotjfclk1U8LDkYkPzUYpQeZGvsPOfV4gpppj+7jdviASB8TthC4QX1Ph6SU7M0csg8y10T5gL88T/S1WM0UNBEfpquVV9yKQST5atPw1eBxz9IkA7CiyqHbt5ESw5iCKxY/Cyn4HHpOqcdVJ7XfyXbIvCfCFPUU1NHNPKwhhRjSrIyIskhMwkcKQzN3xbew0nrfEP0h5QUSkpXqJaiSpq0u8unV2ajQFARQNI7a/LmxOGSoynNXmcpUUtPCrEQ2haSRY+6BfvKtzoBtvztc4rKsNU59TxMQwooC8hVSF7Rh0BJtu0ZAueR3OBxSleo582SuNPpM1yqD7LSSkfhAKn5ocPmELK/1jP6mXmlJTrCD99zq/1cYfcDmrgorcuuIYMGDGEgwYMGADFfxBlgqaaaA/vEZQfAkbH4Gx+GLDBganZ3Rl+TwHMcielYfrFPePT1EkO6D4rZCfxY9cJRtmNLTt286It46lIHWMvIgUI7vYSENEACFb7I5A4mSn9HZzq5U2YCx8FqB/xJ+JkPhiAb5VmzrcpSV/ssLWjlJ8wRs7dRa0i9Fxp65LTTS26y+V3uO/HOR0lNTxR0Zihq6d/WIItf0kmn27AnW5IS55ligxO4hvmFBT5hR/2mAiaIczcftIjbnexFupUDkcecuyOaTMK+pmianiaGOGKR2jaSybs4szBRcA3J56SRcECBklfHl1WAjA5XXMWhkHsRTXsRfloa2x5W0kbBjgTpSbVlmsVxW1d8R64czqOsp46iI91xuOqsOanzB/49cZ16RHPr0hvssdPbyYessPzI+eLbM42yiqaqjUtl9Qw9YRRfsZTt2ij7JPMfD7Ixb0/CcE1Sa5p5J1ks8aXXsgLLYjSAWFlXmTy64nUjpKyMsoPSWXeAg8PcNyVSKkJtF2kjGYA2+qAR5ltVhzHXGhcH8IrSI/aaJJH7pIXYR2A0bk3FxudrjSLbYZ8GMhTUcTiVRywEvO+CMsjiklNGtwpsiM6AnewAQ7Ek8wNvhjOo8rgMO0S9oxDAsgXudlLa1tl/ZhgBuTYnc42HinLXnhCpbUrq4v1tfbmPHxGMur6cwqqOGBQhbMpBCokig26gn/ADDyxzVcthSlJ7yoGTIzySCNVCpCez09ZEUDu6dgxV7nndrjls1ej6jhdhFNGNUkepGXuEFdBYHRaxYOrC1rd8bADEXIlRUsWYNogI094s0J7VlHS5WQCxtzPgcXvCGSTPOlWSUjDyN3ubhlC90cwLrzIFxbGRcnZmzlhZscpMjgMMkOiyS37SxYMxYWJL31FrAC972AHTCVxFwPIkLNCxmIHsFFEjEuGZiwIDMAo7oUX07bm2NGwYrKKksSEZOLwMAokeLtUkjkjtZ1JUo5BeMllDDcBjYHxU/DasnqgtIskjIqIhJYHuCNb2N/DQAfdiZX5fFMpWWNXW1u8PHwPMchy8BjMq2Ja6Y5Zl5ZaJCDVTa2YG2wRCxP2beZHgpvzTp6LZZf6ueFs+RY8ExtX1s2bSgiJbxUoboguGby5n4u46DEegnWrnrMzkgkqKWNGpoIo01tIm/aMFJGoNcjzDsDyxYcWz7RZNQWSSRAJCu4gphsSfNht4m/iwOJVJWOlEkmUmmqKaFCOy7wd9O5tKGssh52ZOZ54qbOeF9+C4L8/cjZdmNYsnbGP1bLlVnkWomSWTSoJvGE1FN7AhpGAGyqp5w/R5Lopq3NqgWM7PJ7oo72A/iuo8Qq458b5qK71WipPbrVjkke3eWm9tdXzLW8iPrY78cxB/VMlpu6JNJkt9Snj8fM6bjxK2+tgKcNWz+roiw9FFCy0jVMv7WrlaZvcx2+B3Yfiw64508KoqogAVQFUDkABYD5Y6YwjOWlJsMGDBgcBgwYMAGFyDOJDWSoSDAuwFtwVC3II595iCN+W3gWPCHPUdhVSFuXasCT4SFJAfkWHvAGJ1JNWtvOoq5fcZ8PrXUjw3Af24n+zIPZN/A3IPkxwq0YGc5c9LP3K6nOltXNZVuAx+69irW66rchh5y+fvNGem493UfAn88KHG2WS0065tRrqdBapjHKWLa7bdQALnyU/VsaJ3LUpPw7c1z/ACUEXEkkuWVdPOJDXUsLr2Vrlz7KyFbHWyE3N7jYP1BDZU5XAMt7Gr0xUUUCoC+0g0ABZL/Va42WxJuL7krin4lysV0cWbZY36ygvYWu4AsVYf3gF1sfaF13FsS8iqqTOexlm1dtTEl6Usey7TYCQofaC2Nr8tRB3xoqR+uOG/gyLwnxF2WjL69hJFKn6tUMPo54mAsjhuTWYCzeIB+qX6S0VTk7NJTK9RlpOp4AbyQX5sl+a9bfPq2HPPskgrITDOgZDy+0p6Mp6Ef8QdiRhNizKsyjuVQeqoBslQovLEvhIOqjx/PcKB1GWllntW/lxHLIs8gq4xLTyB1629pT4MOan34scIk/C1LVn13LKn1ec/vId0Y8yJI9t78xtvzBx5HE2ZUe1dRGeMfv6TvfEobW950jywJukn4X5PMfccqmmSRSrqrKRYhhcWOFrLfSJls3KqRD1Et47fFrL8ji/gzSBxdJomHirqf6HGE5QlHNHmiymCI6o4kVrEXA3sbEgHmASoNuWwxNxGlr4lF2ljA83Uf64pcw47y6EEvVxG3SM9ofkl8AoylkhjxwrayOFGkldURRcsxAA+Jwitx/UVPdy2hllv8AvpRoiHnzsfcWU+WCHgeWdvWM3qu2094QqdECe87X262HmWxpT9q3jduvfMjVudVWcM1PQ6oaK9papgQXHVUGx+HPx0jZrGvrYcrijoKCLtKuT9nHzNzzllO223W3KwsouPEvE7z/AKpk0SsE7rVGm1NCPu7WdvAAW5HvC+L3hXhaOjDNqMtTJvLO/tuf91fu+698CkmoqzVlu+WKXDrT0kMtTBAtexkYVUomInd0Yq4jjMdiiEHSNQLcwBcYuOKKukhy5ZldoqVxrWKDTH2/agsEuF1LqvqLIVNtRviPXcPJl081fFWtTQSEvPAUV0dz1jBIKyE7jZt/LbFZwxlTZhLHXVS9nQ062pYGO2lbWdr9O6DfqQPqr3sJxWm3OeXeC7wJPCFIKKmnzWuss8q6rWsUj20RqOhaygL0AQdDif6OcskftcyqR+sVe6j+7g+qo94APuVOt8Vy3zqrB3/RdM+1+VRMP9wX+R+93XnNpiFCIbPIdIP2Ra7N8By8yuDdjupJrDa8+C2IqqjiI+uRQpbsdTI7eL22A8g2x87+G7JhCel/WqeJRbRKCLfZXS1/yYfwnD7idNt3uRmksgwYMGKHAYMGDAFDVcYUkblHkYMpsR2cnMfw7/DCtn2cwVDll2NtJDAjtIwTZrECxUkkDnpLdQBhk4kobXkA7p9ogC6nx3BFj7tj7zigkp6E7TCMX5Ot0a/3gOvnuPdtjzSlJtxaKJK10eKXPT2K3ktMFZL3Gq9wgY+YVtd/FfPDVw/aNVhHsFLp5W9pfcL3A/F0GM1nolglQsVeJj7QOpSBzvtbwOG/Iqi0SqT9JBMoJ8RI2x/iRyPffGwlibJFbm2WzZRM1ZRoXonN6inH1Pvp4AflyPdsU+ZxkCVgXNMolCVPM2IAc9VYHZZOhDbHrzvi/r8+l7R5Y7erwnS4tcuL2dh1Gmxt46T4i1TmvCk9JKazKSoLbyUp/ZSD7u9gfAbc9iOR9CkmVhUvng/Z8GS+D+PUqG9Wql9XrVOkowIVm+7fkfuHfw1DfDoRfY4zhny7O17KZDT1yCxVu7MpHQEgdoo+yRceC3vjguYZrlPdnQ11GOUi37RF8zuRYdGuOQ1jGmSpJvDB7n8Ms+JeE6am1VlPUPl7j2njBMJ8NcfshfkLnkScfafiDNIFVp6RayEgETUh7xUi4PZnckjwsMVXEPFEWaRQ01MQYpZovWEZwk4hDanUISA4NluyM22rbGngW2GBw5yWE1fnn6mf1PFeS1LaauJY5fs1NOVcfxaSB/NiO3DvDkhuHpgT4VRX/D2m3yxfekGWcRwJDZVkmCSymETdlGQe8EII3YAaiCBffFPwJlVLVxT9vR07PBUywCQU6xmVUtZyukaWOqxHiDgdRqpZOS8zgeFOHU9qSn+NYf8A9uOq5tw9SkdmKdn+rojMr38ms2/xwxz8KZZEjSPSUyoilmZo1sFAuSbjkAMUHo8z1ZKytpjHTxdmYmhSJUFo5ELFSV9plFgxGwJsMA6qebk/P+yU3F1ZOLUWXSBf76rIijA8dN9TL7iMVmW5UtfJH6/WPUa0MscMSvHSsiFQxVrAyBWdbE2NmB3GNHniV1ZGAKsCCDyIOxHyxiQy8ZbPHpFRSmGpe0j1CmmajMpYqsWppJC0QUFVW+sAki2MOFUeUFbr3yNqpKVIkEcaKiKLBVAAA8gMVHFXFdNQR6pn75HcjXd29w6D7xsMKs3GtZXkx5VTkJyNTMLKPcNxf36j93H2DIqLK/13MZ+3qzuHe5OodI0uSSPtHl90Y07VKz189yz/AAcsvyKozKQVuafRUyXaKlJsoXnqkvawtzvueuldj6rq2XOJDS0hMWWobTTgW7S37uPy/wDM7WDeloqzOSGqA9Jl17iG9pZx0L+C9f6X2cX3EFf6jDHFSxqqpYlQO6sYIuPexPPyY88ZKSSuzuU7PjsWxfdk6vZKKlWKnULyjiUcgxvv52F3N+dj44UsuzgoNMr6mhEq3LXYi6tv1ubEfwjFzmmZJKe1HsLTFlv9tywN/vL2Wn+I4T5qZ56hoYxzOojYhbb332v3rE9eWPNUek7JkY72MeS5hFFNqmYdow38naxt5bGyjw1eGHGLM4GOlZo2bwDqT8r4QBBTQnQXjeb2pHle6Kx590G7tf6o+JG17Lh+lNTOshQLBBuoCBdUnQkDkQO9b6vd6k46ptrAyS2jxgwYMXJhgwYMAcaupSNC7myiwOxPM2GwBJuTbCHmz0ktzDBUlt7GNNMZPS+vkvuGNAdAQQQCCLEHcEYo6jKHjJaGzD7DHf4Hr8fmcTqKWw6i0Z0+UVJB/V5APIHn46RuD8MTuFptNQElvcEbMCoDKG7Nm1AHZmsARzIN9hi1zWtqItgrwj7zh1P817fBhhXzPMnkIJaMsvJhsfd7RBHiDiOTKZjjw8bpHH9UwksD1P0YF/P2h8cREr5HjgokdlZHKu6mzaY3YIAfHQhY/hXocVWT5m6kFQgZUe2pu6NVm576hqXa5G5AJGxPSifS/aBWUEqSS12KuNJkJsObhidhbfwwjKyMaGSv4cpsyhEk6aKhO6ZY+66Oh8eq37wBvsQRbniqjqc2y8DUozKk6Om04Xz5ltvxX+0MTOIKkxLUIpsJlX8g/aH4xRgYuuGyYo4oWOxjXSfBwveX3Hdh/F4DF4z2GqbSs8VxEyQ5FmhOq1PUE2N7QyavP927X8dRxJXgzM6b+w5kWTpHOLi3gCQ4+SrhlzHLMvrpJIpoUeVNiSNL28VcWawOxsf6i9L/AOjcw70NfU03gmrXH/Ldb/EnFE7lVVVrXtwauu/Ips2bOWKes5ekxiJMctPKY5FLKVYqyyFt1Yi2m3lsLdso4xqKWJYVyWqRFvyMrkkm7MWMV2YsSSSTcnFoKHP4vZqqSoH/AHqFG+SKB+eD9KZ8vOhpZPNJdI/xSYC0Xsj6tEOo9INRIpT9C1LqwIKsr6SDzBHYkEYr6GpzESvNSZKkEsgClpHNtI5DQWjAA8hi8/TGenll1Ovm0ykfk+DRxBJzahgHiA7MPdfUCcBaK2R9b9CMcizyp/b1sdMh+rALsPiAD/4hxFk4cybLyZK2ft5uZEza2J/+Uu5H4g3vxZf9hqyf+2ZrO6nmkIEQ+Ntj/Li4yTgOgpbGOnUuPryd9r+I1XCn3AYB1UsNL+Kt7lCnE1dWAJllJ2EFrConAVQPFEFwfIjUPEDFpkHAUUUnrFU7VdXz7SXdVP3FNwLdL3t0ti/jzmBllYSArCSJD0Fhc+/w26gjCZT5tKlbHUSXCzXQp9lPqD3hrX82bxxxKolZbyem2moqy9/UsOIuIZIqlHUnsIzodR9ckXY/wgWH3gR1x94jqVME8wOosQijxW+iw/iLN8TiBn6DsY1J3ZGZvxgozN8bt/NiuYkUsL840aIuCbENb6twNQI71uhN7kHbzuTd9pzZI9vKIqKPWDqEpA8CgKMyn3t19+++9PSx1JLlUks5uxGqzDc2JUaiNzsDY49U+YMz6tAbRfQGNlBJLHYDdu8bAcrnri9gzStIskIN+qJJqH8ysPyOG00lZNlkJVTLMEH2UiMYt+Nrm1t7ix88O2XiIRqIdPZjYaCCv5YUqTIKmosapyE+yLC/wHtH8VgPsnDhTU6xoERQqqLADpitNW2E5HXBgwYqchgwYMAGOFbSiVGjYsAwtdWKsPcRv/1vtjvgwAgz8OvTEkQrMv8AeKgMg991Y3/hYHxXljxJxOsXdS7H7Miop+akW/kONBwt13ERdzFTGO4JDSysAqkc9K31OR8F8ziLppYo7UmxOzaaWf6UUzIy7iYEgAeZ0AEeROK5ag6DEWBbQ6hRpsQxuNJHUMSdJ+0bHcDDfUpEh1zN6w431yuukHwSMAhfgvxOKyrzRqodktLGfLSXYeYI06PfyxNpHZ9q6xJ1fUQSDctqtdFDRuqKQDpVZWfUe81mNgLAWmQVBMTIxHaxOCbeFgVb3EqfzGFGtyhoHCXHbWBEa95xcna4FidrkeBFjviXkleY5GSbXETHovouwsbqdJ3YDlsCbDzvjdpha18neEgJSXuMG6q7XBHzFiDseuG7hzORUx3sBIu0i+B8R908x8RzBxnqguj3l1PqJDXuBc367kFhfyIIsNtUzgqpb1xNPJw4ceQBP5OAL+Z8cZSbi7CSujS8GDBj1EgwYMGADC3xNmLMWp4m02W80gNtCHfSD0Zhvfou/UYYycItNWD1Zb2LzfSSE9b2Z7/d5J7rDpiVWaijqKuV+XxhalqYACJijOOlogWC/FiL+QOJGZsrShwLiOVn3Ox7MDb3FowvvfHARteZ2kSMqQ+t9rSWbTHa25KsSwHIPyuBinGbMZFMYFlAAMg7usi7MehbUSQOWwNtsRV1ZbCjdydxCWUKXGlXjZB3gSBqXUPE90WDW32vY3Ar3qDJIZJkbsr6gi7KAdluSbWCqBz6e+8mfLpYWE0qLKGsVc+wQd9iBYXvsCB5DF5RS08o2gdJRyaMojjxKlXDMPgfMYxK2BvE40lVAV7tPGq25ugf/CgN/iwx9pKMynTTrpN93j1RBfgjWH8Rv91sSVzRYHtUxxzp0mCJ2o/Etu97138sO1JMjorRkFGAKkcrY7hFTyZzJtbDlltK0cao0jSMObtzOJWDBj0kgwYMGADBgwYAMGDBgAxBr8ngm3kiVj9rk38wsfzxOwYAX5eGaKMGR0sq7ktI+kDzu1vniL69Gw0xskEH2UKrI/vt7APl3vNeWGSrpUlUpIiuh5qwBH54op+CqQm6qyfha/8AmBtjiUX9J0nvKybO4oU0xRqD9nVe3m2na/8AFc4hNRzVMTSzFViVSytLZUJttpFthy77X57at8XNfQ0VCgkePWxNk1km7dOfdW3O9vnsMVUmfxMwklcSuN1ASTs4/wAK2GpvvsQfCw2xJq2Z3e+RRQ5VPKAyxMqjxY973BnDdB9a2wx7opZ6OUyAL2jWGi6FtI53UElQbDceGLSTOKmpJjgDaeRKKA3xJLBB7yD7sX2Q8JJF35QGf7P1R/zfIDyuL4xRbeAbtmc6DjqBjplV4m92ofkNXxKgYY6OtjlXVE6uvipB+fgfLHPMqGGRT26IygE3cDujqbnl78YXUVklVWMmViSKMD2+0KkIObtITeNPIm/xNhdKRtOl+5lhY/QGPjMALk2A6nGK5FNXUcupqt3Y3vE7GRX8xqa9iBcN3Cdrahthy4ephXgyVFRI7KbGAdwJ4Xtubjkw09QeWGmr2RzOCi8Hctc+4wghUiNlkl6KLlee5JGxAHgflhHgqaly5hSwZtV9PLfVZQ5tp1Em2/y2xpTZDTdmYhCgQ87Cxv46hvq873wlZlkU9E2uIlor+1a9h99R/mG34cSqxk8RBoh0fCMsrG7hnsWOq9gTfnfvBiR4db74kZfWGF+wni2FtrAEeG3slfMH54slzssqkgBhyK6gR+E2Km/gWF+oxYQ1VPWaYp7dqPYZTZj42IOx8V3Bt15Cd4N22nWKR5Mmi7QgBT7UZH0T358rgE/aX4g47UeWUlSpKKUIPeTbun8JBUDwI2wf9kF6SsR95Iyfnpt+WJ+U8Pw07a0DayLFibXH4Vsn+HFIwnpa1rHLatgFPw9Cuw1W8iF/NApxY01OkahUUKovsBbc7k+8k3Jx1wYqoqOSOG2wwYMGOjAwYMGADBgwYAMGDBgAwYMGADBgwYA+EYjNl0JNzFGT4lF/4YlYMAfEUAWAAHgMfccqmoSNdTsFUdWNhhdhMbEineWdidvp5mjXx1trK2G3d3byPTGwVfpMzCWUJltL3qio9sA+xCOZY/VBJA92ocyMV/B/DqlOxhY9mGvLMBYs31dP3ytmub6AQB3iSXGg4ejgjm7K3bzA65WG5Yg25eygJ2UbD33Jn5Vl6QRJCg7qC3mT1J8yd8HiVdTV0UcxksAhMAiXs25i3M+JPMt97nhGzjKHpm7SJiChAD37yE+zf7UT8t72N13540jETMMvSYENcbFbjnpPMG9wQfAgj4jHFSmpLicRlZnHIs2SpiWRSNVhrUHdG6gjmN8TpplQXZgo8SQB+eKCDg6AIiO0r6CSp7RkYaiSbGMqeZ8cRa30cZdKdUkLs32mnnZvm0hx2uJqUNrfp+T3WZrlAYl56QP1IkQNfz0m/wA8d8rmy2dx2D08sinUAHVmBHW1ydvHCXnnodX2qScqfsTbj4OouB71bE/0dcLSUchWpoUL3JSqV1e3lpY6l8NSqL9fE7oxzLShS0LxliaPgwYMDzBgwYMAGDBgwAYMGDABgwYMAGDBgwAYMGDABgwYMAGDBgwB5kjDbMAR5i+PoGDBgD7gwYMAGDBgwAYMGDABgwYMAGDBgwAYMGDABgwYMAGDBgwB/9k=)\n",
        "\n",
        "## Estadística Descriptiva\n",
        "\n",
        "###Fecha: 18/02/2025\n",
        "\n",
        "###Alumno: Lucero Rodríguez Coyoli\n",
        "\n",
        "###No. de Control: 24041227\n",
        "\n",
        "###Grupo: 2Z\n",
        "\n",
        "###Pràctica 6: Estadística descriptiva Dataset Autos\n",
        "\n",
        "### Unidad I"
      ],
      "metadata": {
        "id": "bi9IvSVBqaKI"
      }
    },
    {
      "cell_type": "markdown",
      "source": [
        "### Cargar el Dataset de Autos y realizar las Estadísticas descriptivas básicas y medidas de tendencia central"
      ],
      "metadata": {
        "id": "nNw7RjIJwcFw"
      }
    },
    {
      "cell_type": "code",
      "execution_count": null,
      "metadata": {
        "id": "1aJ02nncqVH_"
      },
      "outputs": [],
      "source": [
        "import pandas as pd\n",
        "import matplotlib as plt\n",
        "import seaborn as sns\n",
        "from matplotlib import pyplot"
      ]
    },
    {
      "cell_type": "code",
      "source": [
        "autos=pd.read_csv('autos2.csv', encoding = \"ISO-8859-1\")"
      ],
      "metadata": {
        "id": "97KzEIR2quio"
      },
      "execution_count": null,
      "outputs": []
    },
    {
      "cell_type": "code",
      "source": [
        "#Mostrar la informacion del archivo\n",
        "autos.info()"
      ],
      "metadata": {
        "colab": {
          "base_uri": "https://localhost:8080/"
        },
        "id": "Xuef9Dy9rfKS",
        "outputId": "3575e0db-7c81-4711-9721-d6578546a727"
      },
      "execution_count": null,
      "outputs": [
        {
          "output_type": "stream",
          "name": "stdout",
          "text": [
            "<class 'pandas.core.frame.DataFrame'>\n",
            "RangeIndex: 205 entries, 0 to 204\n",
            "Data columns (total 26 columns):\n",
            " #   Column             Non-Null Count  Dtype  \n",
            "---  ------             --------------  -----  \n",
            " 0   symboling          205 non-null    int64  \n",
            " 1   normalized-losses  205 non-null    float64\n",
            " 2   make               205 non-null    object \n",
            " 3   fuel-type          205 non-null    object \n",
            " 4   aspiration         205 non-null    object \n",
            " 5   num-of-doors       203 non-null    object \n",
            " 6   body-style         205 non-null    object \n",
            " 7   drive-wheels       205 non-null    object \n",
            " 8   engine-location    205 non-null    object \n",
            " 9   wheel-base         205 non-null    float64\n",
            " 10  length             205 non-null    float64\n",
            " 11  width              205 non-null    float64\n",
            " 12  height             205 non-null    float64\n",
            " 13  curb-weight        205 non-null    int64  \n",
            " 14  engine-type        205 non-null    object \n",
            " 15  num-of-cylinders   205 non-null    object \n",
            " 16  engine-size        205 non-null    int64  \n",
            " 17  fuel-system        205 non-null    object \n",
            " 18  bore               201 non-null    float64\n",
            " 19  stroke             201 non-null    float64\n",
            " 20  compression-ratio  205 non-null    float64\n",
            " 21  horsepower         203 non-null    float64\n",
            " 22  peak-rpm           203 non-null    float64\n",
            " 23  city-mpg           205 non-null    int64  \n",
            " 24  highway-mpg        205 non-null    int64  \n",
            " 25  price              201 non-null    float64\n",
            "dtypes: float64(11), int64(5), object(10)\n",
            "memory usage: 41.8+ KB\n"
          ]
        }
      ]
    },
    {
      "cell_type": "code",
      "source": [
        "#Determinar el valor mínimo de precios\n",
        "autos.price.min()"
      ],
      "metadata": {
        "colab": {
          "base_uri": "https://localhost:8080/"
        },
        "id": "IQhtPPGir1V3",
        "outputId": "abd5206c-0af0-412a-9d16-9a457d37c21f"
      },
      "execution_count": null,
      "outputs": [
        {
          "output_type": "execute_result",
          "data": {
            "text/plain": [
              "5118.0"
            ]
          },
          "metadata": {},
          "execution_count": 9
        }
      ]
    },
    {
      "cell_type": "code",
      "source": [
        "#Determinar el valor máximo de precios\n",
        "autos.price.max()"
      ],
      "metadata": {
        "colab": {
          "base_uri": "https://localhost:8080/"
        },
        "id": "gGHDlISAsE34",
        "outputId": "e8e1f2b9-28d4-4e88-c962-8e1b6ce2b7e3"
      },
      "execution_count": null,
      "outputs": [
        {
          "output_type": "execute_result",
          "data": {
            "text/plain": [
              "45400.0"
            ]
          },
          "metadata": {},
          "execution_count": 10
        }
      ]
    },
    {
      "cell_type": "code",
      "source": [
        "from statistics import *"
      ],
      "metadata": {
        "id": "hq-50A4XsUv7"
      },
      "execution_count": null,
      "outputs": []
    },
    {
      "cell_type": "code",
      "source": [
        "#Determinar el valor de la moda de precios\n",
        "moda=mode(autos.price)\n",
        "print(moda)\n"
      ],
      "metadata": {
        "colab": {
          "base_uri": "https://localhost:8080/"
        },
        "id": "K1fR3o17sh4w",
        "outputId": "d1300c88-bc5a-4097-ecd6-0f0c5006e95b"
      },
      "execution_count": null,
      "outputs": [
        {
          "output_type": "stream",
          "name": "stdout",
          "text": [
            "16500.0\n"
          ]
        }
      ]
    },
    {
      "cell_type": "code",
      "source": [
        "#ver si hay valores NaN en la columna price\n",
        "autos['price'].isnull().sum()"
      ],
      "metadata": {
        "colab": {
          "base_uri": "https://localhost:8080/"
        },
        "id": "rrCx2KRdsxH6",
        "outputId": "537eba0e-52fc-41ed-d4f8-2f37a97dbe41"
      },
      "execution_count": null,
      "outputs": [
        {
          "output_type": "execute_result",
          "data": {
            "text/plain": [
              "0"
            ]
          },
          "metadata": {},
          "execution_count": 24
        }
      ]
    },
    {
      "cell_type": "code",
      "source": [
        "#Eliminar valores NaN\n",
        "autos = autos.dropna(subset=['price'])"
      ],
      "metadata": {
        "id": "vQgCg7Uju9D0"
      },
      "execution_count": null,
      "outputs": []
    },
    {
      "cell_type": "code",
      "source": [
        "#Si la columna price contiene valores en formato object , convertirlos a float\n",
        "autos['price'] = pd.to_numeric(autos['price'], errors='coerce')"
      ],
      "metadata": {
        "id": "8ceuM6lHvA-A"
      },
      "execution_count": null,
      "outputs": []
    },
    {
      "cell_type": "code",
      "source": [
        "#Sacar la media\n",
        "media=mean(autos.price)\n",
        "print(media)"
      ],
      "metadata": {
        "colab": {
          "base_uri": "https://localhost:8080/"
        },
        "id": "cMrz5HL1vD8g",
        "outputId": "bc3a2b76-1458-4818-ad6e-b93b8a9800ce"
      },
      "execution_count": null,
      "outputs": [
        {
          "output_type": "stream",
          "name": "stdout",
          "text": [
            "13207.129353233831\n"
          ]
        }
      ]
    },
    {
      "cell_type": "code",
      "source": [
        "#Determinar el valor de la mediana de precios\n",
        "mediana=median(autos.price)\n",
        "print(mediana)"
      ],
      "metadata": {
        "colab": {
          "base_uri": "https://localhost:8080/"
        },
        "id": "uwQ3hT_MvrZn",
        "outputId": "9220a9fb-218d-47ca-aab6-4fc6bb4572e7"
      },
      "execution_count": null,
      "outputs": [
        {
          "output_type": "stream",
          "name": "stdout",
          "text": [
            "10295.0\n"
          ]
        }
      ]
    },
    {
      "cell_type": "code",
      "source": [
        "#Determinar el valor de la desviación estándar de precios\n",
        "desviacion=stdev(autos.price)\n",
        "print(desviacion)"
      ],
      "metadata": {
        "colab": {
          "base_uri": "https://localhost:8080/"
        },
        "id": "YWBwRC47v8Nh",
        "outputId": "be980b0b-e5e6-45dd-bf6b-b957fb00dfa9"
      },
      "execution_count": null,
      "outputs": [
        {
          "output_type": "stream",
          "name": "stdout",
          "text": [
            "7947.066341939274\n"
          ]
        }
      ]
    },
    {
      "cell_type": "code",
      "source": [
        "#Determinar los estadísticos y cuartiles con la función describe()\n",
        "autos.describe()"
      ],
      "metadata": {
        "colab": {
          "base_uri": "https://localhost:8080/",
          "height": 338
        },
        "id": "8D2KrpLawK5p",
        "outputId": "d6686e0d-47a8-44ac-8843-6db1e40f4114"
      },
      "execution_count": null,
      "outputs": [
        {
          "output_type": "execute_result",
          "data": {
            "text/plain": [
              "        symboling  normalized-losses  wheel-base      length       width  \\\n",
              "count  201.000000          201.00000  201.000000  201.000000  201.000000   \n",
              "mean     0.840796          122.00000   98.797015  174.200995   65.889055   \n",
              "std      1.254802           31.99625    6.066366   12.322175    2.101471   \n",
              "min     -2.000000           65.00000   86.600000  141.100000   60.300000   \n",
              "25%      0.000000          101.00000   94.500000  166.800000   64.100000   \n",
              "50%      1.000000          122.00000   97.000000  173.200000   65.500000   \n",
              "75%      2.000000          137.00000  102.400000  183.500000   66.600000   \n",
              "max      3.000000          256.00000  120.900000  208.100000   72.000000   \n",
              "\n",
              "           height  curb-weight  engine-size        bore      stroke  \\\n",
              "count  201.000000   201.000000   201.000000  197.000000  197.000000   \n",
              "mean    53.766667  2555.666667   126.875622    3.330711    3.256904   \n",
              "std      2.447822   517.296727    41.546834    0.270793    0.319256   \n",
              "min     47.800000  1488.000000    61.000000    2.540000    2.070000   \n",
              "25%     52.000000  2169.000000    98.000000    3.150000    3.110000   \n",
              "50%     54.100000  2414.000000   120.000000    3.310000    3.290000   \n",
              "75%     55.500000  2926.000000   141.000000    3.590000    3.410000   \n",
              "max     59.800000  4066.000000   326.000000    3.940000    4.170000   \n",
              "\n",
              "       compression-ratio  horsepower     peak-rpm    city-mpg  highway-mpg  \\\n",
              "count         201.000000  199.000000   199.000000  201.000000   201.000000   \n",
              "mean           10.164279  103.396985  5117.587940   25.179104    30.686567   \n",
              "std             4.004965   37.553843   480.521824    6.423220     6.815150   \n",
              "min             7.000000   48.000000  4150.000000   13.000000    16.000000   \n",
              "25%             8.600000   70.000000  4800.000000   19.000000    25.000000   \n",
              "50%             9.000000   95.000000  5200.000000   24.000000    30.000000   \n",
              "75%             9.400000  116.000000  5500.000000   30.000000    34.000000   \n",
              "max            23.000000  262.000000  6600.000000   49.000000    54.000000   \n",
              "\n",
              "              price  \n",
              "count    201.000000  \n",
              "mean   13207.129353  \n",
              "std     7947.066342  \n",
              "min     5118.000000  \n",
              "25%     7775.000000  \n",
              "50%    10295.000000  \n",
              "75%    16500.000000  \n",
              "max    45400.000000  "
            ],
            "text/html": [
              "\n",
              "  <div id=\"df-d927c91a-cc52-4d80-af0b-c1dfbd8f1816\" class=\"colab-df-container\">\n",
              "    <div>\n",
              "<style scoped>\n",
              "    .dataframe tbody tr th:only-of-type {\n",
              "        vertical-align: middle;\n",
              "    }\n",
              "\n",
              "    .dataframe tbody tr th {\n",
              "        vertical-align: top;\n",
              "    }\n",
              "\n",
              "    .dataframe thead th {\n",
              "        text-align: right;\n",
              "    }\n",
              "</style>\n",
              "<table border=\"1\" class=\"dataframe\">\n",
              "  <thead>\n",
              "    <tr style=\"text-align: right;\">\n",
              "      <th></th>\n",
              "      <th>symboling</th>\n",
              "      <th>normalized-losses</th>\n",
              "      <th>wheel-base</th>\n",
              "      <th>length</th>\n",
              "      <th>width</th>\n",
              "      <th>height</th>\n",
              "      <th>curb-weight</th>\n",
              "      <th>engine-size</th>\n",
              "      <th>bore</th>\n",
              "      <th>stroke</th>\n",
              "      <th>compression-ratio</th>\n",
              "      <th>horsepower</th>\n",
              "      <th>peak-rpm</th>\n",
              "      <th>city-mpg</th>\n",
              "      <th>highway-mpg</th>\n",
              "      <th>price</th>\n",
              "    </tr>\n",
              "  </thead>\n",
              "  <tbody>\n",
              "    <tr>\n",
              "      <th>count</th>\n",
              "      <td>201.000000</td>\n",
              "      <td>201.00000</td>\n",
              "      <td>201.000000</td>\n",
              "      <td>201.000000</td>\n",
              "      <td>201.000000</td>\n",
              "      <td>201.000000</td>\n",
              "      <td>201.000000</td>\n",
              "      <td>201.000000</td>\n",
              "      <td>197.000000</td>\n",
              "      <td>197.000000</td>\n",
              "      <td>201.000000</td>\n",
              "      <td>199.000000</td>\n",
              "      <td>199.000000</td>\n",
              "      <td>201.000000</td>\n",
              "      <td>201.000000</td>\n",
              "      <td>201.000000</td>\n",
              "    </tr>\n",
              "    <tr>\n",
              "      <th>mean</th>\n",
              "      <td>0.840796</td>\n",
              "      <td>122.00000</td>\n",
              "      <td>98.797015</td>\n",
              "      <td>174.200995</td>\n",
              "      <td>65.889055</td>\n",
              "      <td>53.766667</td>\n",
              "      <td>2555.666667</td>\n",
              "      <td>126.875622</td>\n",
              "      <td>3.330711</td>\n",
              "      <td>3.256904</td>\n",
              "      <td>10.164279</td>\n",
              "      <td>103.396985</td>\n",
              "      <td>5117.587940</td>\n",
              "      <td>25.179104</td>\n",
              "      <td>30.686567</td>\n",
              "      <td>13207.129353</td>\n",
              "    </tr>\n",
              "    <tr>\n",
              "      <th>std</th>\n",
              "      <td>1.254802</td>\n",
              "      <td>31.99625</td>\n",
              "      <td>6.066366</td>\n",
              "      <td>12.322175</td>\n",
              "      <td>2.101471</td>\n",
              "      <td>2.447822</td>\n",
              "      <td>517.296727</td>\n",
              "      <td>41.546834</td>\n",
              "      <td>0.270793</td>\n",
              "      <td>0.319256</td>\n",
              "      <td>4.004965</td>\n",
              "      <td>37.553843</td>\n",
              "      <td>480.521824</td>\n",
              "      <td>6.423220</td>\n",
              "      <td>6.815150</td>\n",
              "      <td>7947.066342</td>\n",
              "    </tr>\n",
              "    <tr>\n",
              "      <th>min</th>\n",
              "      <td>-2.000000</td>\n",
              "      <td>65.00000</td>\n",
              "      <td>86.600000</td>\n",
              "      <td>141.100000</td>\n",
              "      <td>60.300000</td>\n",
              "      <td>47.800000</td>\n",
              "      <td>1488.000000</td>\n",
              "      <td>61.000000</td>\n",
              "      <td>2.540000</td>\n",
              "      <td>2.070000</td>\n",
              "      <td>7.000000</td>\n",
              "      <td>48.000000</td>\n",
              "      <td>4150.000000</td>\n",
              "      <td>13.000000</td>\n",
              "      <td>16.000000</td>\n",
              "      <td>5118.000000</td>\n",
              "    </tr>\n",
              "    <tr>\n",
              "      <th>25%</th>\n",
              "      <td>0.000000</td>\n",
              "      <td>101.00000</td>\n",
              "      <td>94.500000</td>\n",
              "      <td>166.800000</td>\n",
              "      <td>64.100000</td>\n",
              "      <td>52.000000</td>\n",
              "      <td>2169.000000</td>\n",
              "      <td>98.000000</td>\n",
              "      <td>3.150000</td>\n",
              "      <td>3.110000</td>\n",
              "      <td>8.600000</td>\n",
              "      <td>70.000000</td>\n",
              "      <td>4800.000000</td>\n",
              "      <td>19.000000</td>\n",
              "      <td>25.000000</td>\n",
              "      <td>7775.000000</td>\n",
              "    </tr>\n",
              "    <tr>\n",
              "      <th>50%</th>\n",
              "      <td>1.000000</td>\n",
              "      <td>122.00000</td>\n",
              "      <td>97.000000</td>\n",
              "      <td>173.200000</td>\n",
              "      <td>65.500000</td>\n",
              "      <td>54.100000</td>\n",
              "      <td>2414.000000</td>\n",
              "      <td>120.000000</td>\n",
              "      <td>3.310000</td>\n",
              "      <td>3.290000</td>\n",
              "      <td>9.000000</td>\n",
              "      <td>95.000000</td>\n",
              "      <td>5200.000000</td>\n",
              "      <td>24.000000</td>\n",
              "      <td>30.000000</td>\n",
              "      <td>10295.000000</td>\n",
              "    </tr>\n",
              "    <tr>\n",
              "      <th>75%</th>\n",
              "      <td>2.000000</td>\n",
              "      <td>137.00000</td>\n",
              "      <td>102.400000</td>\n",
              "      <td>183.500000</td>\n",
              "      <td>66.600000</td>\n",
              "      <td>55.500000</td>\n",
              "      <td>2926.000000</td>\n",
              "      <td>141.000000</td>\n",
              "      <td>3.590000</td>\n",
              "      <td>3.410000</td>\n",
              "      <td>9.400000</td>\n",
              "      <td>116.000000</td>\n",
              "      <td>5500.000000</td>\n",
              "      <td>30.000000</td>\n",
              "      <td>34.000000</td>\n",
              "      <td>16500.000000</td>\n",
              "    </tr>\n",
              "    <tr>\n",
              "      <th>max</th>\n",
              "      <td>3.000000</td>\n",
              "      <td>256.00000</td>\n",
              "      <td>120.900000</td>\n",
              "      <td>208.100000</td>\n",
              "      <td>72.000000</td>\n",
              "      <td>59.800000</td>\n",
              "      <td>4066.000000</td>\n",
              "      <td>326.000000</td>\n",
              "      <td>3.940000</td>\n",
              "      <td>4.170000</td>\n",
              "      <td>23.000000</td>\n",
              "      <td>262.000000</td>\n",
              "      <td>6600.000000</td>\n",
              "      <td>49.000000</td>\n",
              "      <td>54.000000</td>\n",
              "      <td>45400.000000</td>\n",
              "    </tr>\n",
              "  </tbody>\n",
              "</table>\n",
              "</div>\n",
              "    <div class=\"colab-df-buttons\">\n",
              "\n",
              "  <div class=\"colab-df-container\">\n",
              "    <button class=\"colab-df-convert\" onclick=\"convertToInteractive('df-d927c91a-cc52-4d80-af0b-c1dfbd8f1816')\"\n",
              "            title=\"Convert this dataframe to an interactive table.\"\n",
              "            style=\"display:none;\">\n",
              "\n",
              "  <svg xmlns=\"http://www.w3.org/2000/svg\" height=\"24px\" viewBox=\"0 -960 960 960\">\n",
              "    <path d=\"M120-120v-720h720v720H120Zm60-500h600v-160H180v160Zm220 220h160v-160H400v160Zm0 220h160v-160H400v160ZM180-400h160v-160H180v160Zm440 0h160v-160H620v160ZM180-180h160v-160H180v160Zm440 0h160v-160H620v160Z\"/>\n",
              "  </svg>\n",
              "    </button>\n",
              "\n",
              "  <style>\n",
              "    .colab-df-container {\n",
              "      display:flex;\n",
              "      gap: 12px;\n",
              "    }\n",
              "\n",
              "    .colab-df-convert {\n",
              "      background-color: #E8F0FE;\n",
              "      border: none;\n",
              "      border-radius: 50%;\n",
              "      cursor: pointer;\n",
              "      display: none;\n",
              "      fill: #1967D2;\n",
              "      height: 32px;\n",
              "      padding: 0 0 0 0;\n",
              "      width: 32px;\n",
              "    }\n",
              "\n",
              "    .colab-df-convert:hover {\n",
              "      background-color: #E2EBFA;\n",
              "      box-shadow: 0px 1px 2px rgba(60, 64, 67, 0.3), 0px 1px 3px 1px rgba(60, 64, 67, 0.15);\n",
              "      fill: #174EA6;\n",
              "    }\n",
              "\n",
              "    .colab-df-buttons div {\n",
              "      margin-bottom: 4px;\n",
              "    }\n",
              "\n",
              "    [theme=dark] .colab-df-convert {\n",
              "      background-color: #3B4455;\n",
              "      fill: #D2E3FC;\n",
              "    }\n",
              "\n",
              "    [theme=dark] .colab-df-convert:hover {\n",
              "      background-color: #434B5C;\n",
              "      box-shadow: 0px 1px 3px 1px rgba(0, 0, 0, 0.15);\n",
              "      filter: drop-shadow(0px 1px 2px rgba(0, 0, 0, 0.3));\n",
              "      fill: #FFFFFF;\n",
              "    }\n",
              "  </style>\n",
              "\n",
              "    <script>\n",
              "      const buttonEl =\n",
              "        document.querySelector('#df-d927c91a-cc52-4d80-af0b-c1dfbd8f1816 button.colab-df-convert');\n",
              "      buttonEl.style.display =\n",
              "        google.colab.kernel.accessAllowed ? 'block' : 'none';\n",
              "\n",
              "      async function convertToInteractive(key) {\n",
              "        const element = document.querySelector('#df-d927c91a-cc52-4d80-af0b-c1dfbd8f1816');\n",
              "        const dataTable =\n",
              "          await google.colab.kernel.invokeFunction('convertToInteractive',\n",
              "                                                    [key], {});\n",
              "        if (!dataTable) return;\n",
              "\n",
              "        const docLinkHtml = 'Like what you see? Visit the ' +\n",
              "          '<a target=\"_blank\" href=https://colab.research.google.com/notebooks/data_table.ipynb>data table notebook</a>'\n",
              "          + ' to learn more about interactive tables.';\n",
              "        element.innerHTML = '';\n",
              "        dataTable['output_type'] = 'display_data';\n",
              "        await google.colab.output.renderOutput(dataTable, element);\n",
              "        const docLink = document.createElement('div');\n",
              "        docLink.innerHTML = docLinkHtml;\n",
              "        element.appendChild(docLink);\n",
              "      }\n",
              "    </script>\n",
              "  </div>\n",
              "\n",
              "\n",
              "<div id=\"df-c5505f25-5712-4520-b1e9-7aa5c2b9e0e3\">\n",
              "  <button class=\"colab-df-quickchart\" onclick=\"quickchart('df-c5505f25-5712-4520-b1e9-7aa5c2b9e0e3')\"\n",
              "            title=\"Suggest charts\"\n",
              "            style=\"display:none;\">\n",
              "\n",
              "<svg xmlns=\"http://www.w3.org/2000/svg\" height=\"24px\"viewBox=\"0 0 24 24\"\n",
              "     width=\"24px\">\n",
              "    <g>\n",
              "        <path d=\"M19 3H5c-1.1 0-2 .9-2 2v14c0 1.1.9 2 2 2h14c1.1 0 2-.9 2-2V5c0-1.1-.9-2-2-2zM9 17H7v-7h2v7zm4 0h-2V7h2v10zm4 0h-2v-4h2v4z\"/>\n",
              "    </g>\n",
              "</svg>\n",
              "  </button>\n",
              "\n",
              "<style>\n",
              "  .colab-df-quickchart {\n",
              "      --bg-color: #E8F0FE;\n",
              "      --fill-color: #1967D2;\n",
              "      --hover-bg-color: #E2EBFA;\n",
              "      --hover-fill-color: #174EA6;\n",
              "      --disabled-fill-color: #AAA;\n",
              "      --disabled-bg-color: #DDD;\n",
              "  }\n",
              "\n",
              "  [theme=dark] .colab-df-quickchart {\n",
              "      --bg-color: #3B4455;\n",
              "      --fill-color: #D2E3FC;\n",
              "      --hover-bg-color: #434B5C;\n",
              "      --hover-fill-color: #FFFFFF;\n",
              "      --disabled-bg-color: #3B4455;\n",
              "      --disabled-fill-color: #666;\n",
              "  }\n",
              "\n",
              "  .colab-df-quickchart {\n",
              "    background-color: var(--bg-color);\n",
              "    border: none;\n",
              "    border-radius: 50%;\n",
              "    cursor: pointer;\n",
              "    display: none;\n",
              "    fill: var(--fill-color);\n",
              "    height: 32px;\n",
              "    padding: 0;\n",
              "    width: 32px;\n",
              "  }\n",
              "\n",
              "  .colab-df-quickchart:hover {\n",
              "    background-color: var(--hover-bg-color);\n",
              "    box-shadow: 0 1px 2px rgba(60, 64, 67, 0.3), 0 1px 3px 1px rgba(60, 64, 67, 0.15);\n",
              "    fill: var(--button-hover-fill-color);\n",
              "  }\n",
              "\n",
              "  .colab-df-quickchart-complete:disabled,\n",
              "  .colab-df-quickchart-complete:disabled:hover {\n",
              "    background-color: var(--disabled-bg-color);\n",
              "    fill: var(--disabled-fill-color);\n",
              "    box-shadow: none;\n",
              "  }\n",
              "\n",
              "  .colab-df-spinner {\n",
              "    border: 2px solid var(--fill-color);\n",
              "    border-color: transparent;\n",
              "    border-bottom-color: var(--fill-color);\n",
              "    animation:\n",
              "      spin 1s steps(1) infinite;\n",
              "  }\n",
              "\n",
              "  @keyframes spin {\n",
              "    0% {\n",
              "      border-color: transparent;\n",
              "      border-bottom-color: var(--fill-color);\n",
              "      border-left-color: var(--fill-color);\n",
              "    }\n",
              "    20% {\n",
              "      border-color: transparent;\n",
              "      border-left-color: var(--fill-color);\n",
              "      border-top-color: var(--fill-color);\n",
              "    }\n",
              "    30% {\n",
              "      border-color: transparent;\n",
              "      border-left-color: var(--fill-color);\n",
              "      border-top-color: var(--fill-color);\n",
              "      border-right-color: var(--fill-color);\n",
              "    }\n",
              "    40% {\n",
              "      border-color: transparent;\n",
              "      border-right-color: var(--fill-color);\n",
              "      border-top-color: var(--fill-color);\n",
              "    }\n",
              "    60% {\n",
              "      border-color: transparent;\n",
              "      border-right-color: var(--fill-color);\n",
              "    }\n",
              "    80% {\n",
              "      border-color: transparent;\n",
              "      border-right-color: var(--fill-color);\n",
              "      border-bottom-color: var(--fill-color);\n",
              "    }\n",
              "    90% {\n",
              "      border-color: transparent;\n",
              "      border-bottom-color: var(--fill-color);\n",
              "    }\n",
              "  }\n",
              "</style>\n",
              "\n",
              "  <script>\n",
              "    async function quickchart(key) {\n",
              "      const quickchartButtonEl =\n",
              "        document.querySelector('#' + key + ' button');\n",
              "      quickchartButtonEl.disabled = true;  // To prevent multiple clicks.\n",
              "      quickchartButtonEl.classList.add('colab-df-spinner');\n",
              "      try {\n",
              "        const charts = await google.colab.kernel.invokeFunction(\n",
              "            'suggestCharts', [key], {});\n",
              "      } catch (error) {\n",
              "        console.error('Error during call to suggestCharts:', error);\n",
              "      }\n",
              "      quickchartButtonEl.classList.remove('colab-df-spinner');\n",
              "      quickchartButtonEl.classList.add('colab-df-quickchart-complete');\n",
              "    }\n",
              "    (() => {\n",
              "      let quickchartButtonEl =\n",
              "        document.querySelector('#df-c5505f25-5712-4520-b1e9-7aa5c2b9e0e3 button');\n",
              "      quickchartButtonEl.style.display =\n",
              "        google.colab.kernel.accessAllowed ? 'block' : 'none';\n",
              "    })();\n",
              "  </script>\n",
              "</div>\n",
              "\n",
              "    </div>\n",
              "  </div>\n"
            ],
            "application/vnd.google.colaboratory.intrinsic+json": {
              "type": "dataframe",
              "summary": "{\n  \"name\": \"autos\",\n  \"rows\": 8,\n  \"fields\": [\n    {\n      \"column\": \"symboling\",\n      \"properties\": {\n        \"dtype\": \"number\",\n        \"std\": 70.77147139083542,\n        \"min\": -2.0,\n        \"max\": 201.0,\n        \"num_unique_values\": 8,\n        \"samples\": [\n          0.8407960199004975,\n          1.0,\n          201.0\n        ],\n        \"semantic_type\": \"\",\n        \"description\": \"\"\n      }\n    },\n    {\n      \"column\": \"normalized-losses\",\n      \"properties\": {\n        \"dtype\": \"number\",\n        \"std\": 71.47700060174985,\n        \"min\": 31.996249780247684,\n        \"max\": 256.0,\n        \"num_unique_values\": 7,\n        \"samples\": [\n          201.0,\n          122.0,\n          137.0\n        ],\n        \"semantic_type\": \"\",\n        \"description\": \"\"\n      }\n    },\n    {\n      \"column\": \"wheel-base\",\n      \"properties\": {\n        \"dtype\": \"number\",\n        \"std\": 53.023930266261296,\n        \"min\": 6.0663655548257305,\n        \"max\": 201.0,\n        \"num_unique_values\": 8,\n        \"samples\": [\n          98.79701492537313,\n          97.0,\n          201.0\n        ],\n        \"semantic_type\": \"\",\n        \"description\": \"\"\n      }\n    },\n    {\n      \"column\": \"length\",\n      \"properties\": {\n        \"dtype\": \"number\",\n        \"std\": 62.204809017290245,\n        \"min\": 12.32217509228688,\n        \"max\": 208.1,\n        \"num_unique_values\": 8,\n        \"samples\": [\n          174.20099502487562,\n          173.2,\n          201.0\n        ],\n        \"semantic_type\": \"\",\n        \"description\": \"\"\n      }\n    },\n    {\n      \"column\": \"width\",\n      \"properties\": {\n        \"dtype\": \"number\",\n        \"std\": 55.77650260230691,\n        \"min\": 2.1014708187338833,\n        \"max\": 201.0,\n        \"num_unique_values\": 8,\n        \"samples\": [\n          65.88905472636816,\n          65.5,\n          201.0\n        ],\n        \"semantic_type\": \"\",\n        \"description\": \"\"\n      }\n    },\n    {\n      \"column\": \"height\",\n      \"properties\": {\n        \"dtype\": \"number\",\n        \"std\": 57.607984964607475,\n        \"min\": 2.44782216129631,\n        \"max\": 201.0,\n        \"num_unique_values\": 8,\n        \"samples\": [\n          53.766666666666666,\n          54.1,\n          201.0\n        ],\n        \"semantic_type\": \"\",\n        \"description\": \"\"\n      }\n    },\n    {\n      \"column\": \"curb-weight\",\n      \"properties\": {\n        \"dtype\": \"number\",\n        \"std\": 1271.5185185100302,\n        \"min\": 201.0,\n        \"max\": 4066.0,\n        \"num_unique_values\": 8,\n        \"samples\": [\n          2555.6666666666665,\n          2414.0,\n          201.0\n        ],\n        \"semantic_type\": \"\",\n        \"description\": \"\"\n      }\n    },\n    {\n      \"column\": \"engine-size\",\n      \"properties\": {\n        \"dtype\": \"number\",\n        \"std\": 89.9092048914732,\n        \"min\": 41.54683444904457,\n        \"max\": 326.0,\n        \"num_unique_values\": 8,\n        \"samples\": [\n          126.87562189054727,\n          120.0,\n          201.0\n        ],\n        \"semantic_type\": \"\",\n        \"description\": \"\"\n      }\n    },\n    {\n      \"column\": \"bore\",\n      \"properties\": {\n        \"dtype\": \"number\",\n        \"std\": 68.64260193598203,\n        \"min\": 0.2707934346001054,\n        \"max\": 197.0,\n        \"num_unique_values\": 8,\n        \"samples\": [\n          3.330710659898477,\n          3.31,\n          197.0\n        ],\n        \"semantic_type\": \"\",\n        \"description\": \"\"\n      }\n    },\n    {\n      \"column\": \"stroke\",\n      \"properties\": {\n        \"dtype\": \"number\",\n        \"std\": 68.66860980405795,\n        \"min\": 0.31925623999073816,\n        \"max\": 197.0,\n        \"num_unique_values\": 8,\n        \"samples\": [\n          3.256903553299492,\n          3.29,\n          197.0\n        ],\n        \"semantic_type\": \"\",\n        \"description\": \"\"\n      }\n    },\n    {\n      \"column\": \"compression-ratio\",\n      \"properties\": {\n        \"dtype\": \"number\",\n        \"std\": 67.6990822146513,\n        \"min\": 4.004965493233378,\n        \"max\": 201.0,\n        \"num_unique_values\": 8,\n        \"samples\": [\n          10.164278606965174,\n          9.0,\n          201.0\n        ],\n        \"semantic_type\": \"\",\n        \"description\": \"\"\n      }\n    },\n    {\n      \"column\": \"horsepower\",\n      \"properties\": {\n        \"dtype\": \"number\",\n        \"std\": 77.1802594674572,\n        \"min\": 37.553842705833986,\n        \"max\": 262.0,\n        \"num_unique_values\": 8,\n        \"samples\": [\n          103.39698492462311,\n          95.0,\n          199.0\n        ],\n        \"semantic_type\": \"\",\n        \"description\": \"\"\n      }\n    },\n    {\n      \"column\": \"peak-rpm\",\n      \"properties\": {\n        \"dtype\": \"number\",\n        \"std\": 2366.29768138369,\n        \"min\": 199.0,\n        \"max\": 6600.0,\n        \"num_unique_values\": 8,\n        \"samples\": [\n          5117.587939698493,\n          5200.0,\n          199.0\n        ],\n        \"semantic_type\": \"\",\n        \"description\": \"\"\n      }\n    },\n    {\n      \"column\": \"city-mpg\",\n      \"properties\": {\n        \"dtype\": \"number\",\n        \"std\": 63.910441132454544,\n        \"min\": 6.4232204690505394,\n        \"max\": 201.0,\n        \"num_unique_values\": 8,\n        \"samples\": [\n          25.17910447761194,\n          24.0,\n          201.0\n        ],\n        \"semantic_type\": \"\",\n        \"description\": \"\"\n      }\n    },\n    {\n      \"column\": \"highway-mpg\",\n      \"properties\": {\n        \"dtype\": \"number\",\n        \"std\": 62.66824188389858,\n        \"min\": 6.815149936480959,\n        \"max\": 201.0,\n        \"num_unique_values\": 8,\n        \"samples\": [\n          30.686567164179106,\n          30.0,\n          201.0\n        ],\n        \"semantic_type\": \"\",\n        \"description\": \"\"\n      }\n    },\n    {\n      \"column\": \"price\",\n      \"properties\": {\n        \"dtype\": \"number\",\n        \"std\": 13873.905956718689,\n        \"min\": 201.0,\n        \"max\": 45400.0,\n        \"num_unique_values\": 8,\n        \"samples\": [\n          13207.129353233831,\n          10295.0,\n          201.0\n        ],\n        \"semantic_type\": \"\",\n        \"description\": \"\"\n      }\n    }\n  ]\n}"
            }
          },
          "metadata": {},
          "execution_count": 31
        }
      ]
    },
    {
      "cell_type": "markdown",
      "source": [
        "### Realizar un Histograma de precios de los automóviles"
      ],
      "metadata": {
        "id": "BHwnwsJgwggY"
      }
    },
    {
      "cell_type": "code",
      "source": [
        "#Determinar mediante la regla de sturges la cantidad optima de bins o separadores\n",
        "import math\n",
        "n = len(autos['price'])  # Contar el número total de datos\n",
        "k = int(1 + (math.log(n, 2)))  # Aplicar la fórmula de Sturges\n",
        "print(\"Cantidad óptima de bins según Sturges:\", k)"
      ],
      "metadata": {
        "colab": {
          "base_uri": "https://localhost:8080/"
        },
        "id": "DIp_PwjtwYTw",
        "outputId": "183a68d6-39f9-44a7-cfa7-75b4071edb14"
      },
      "execution_count": null,
      "outputs": [
        {
          "output_type": "stream",
          "name": "stdout",
          "text": [
            "Cantidad óptima de bins según Sturges: 8\n"
          ]
        }
      ]
    },
    {
      "cell_type": "code",
      "source": [
        "import matplotlib.pyplot as plt\n",
        "plt.hist(autos['price'], bins=k, edgecolor='black')\n",
        "\n",
        "# Agregar título y etiquetas\n",
        "plt.title(\"Histograma de Precios de Autos\")\n",
        "plt.axvline(media, color='y', linestyle='dashed', linewidth=2, label=f\"Media = {media:.2f}\")\n",
        "plt.xlabel(\"Precio\")\n",
        "plt.ylabel(\"Cantidad de Autos\")\n",
        "plt.legend()  # Muestra la línea de la media en la leyenda\n",
        "plt.show()"
      ],
      "metadata": {
        "colab": {
          "base_uri": "https://localhost:8080/",
          "height": 472
        },
        "id": "8hW61l9fxc26",
        "outputId": "42c3a4c8-4a23-4cde-db88-4de313a569a3"
      },
      "execution_count": null,
      "outputs": [
        {
          "output_type": "display_data",
          "data": {
            "text/plain": [
              "<Figure size 640x480 with 1 Axes>"
            ],
            "image/png": "[encoded data removed]"
          },
          "metadata": {}
        }
      ]
    },
    {
      "cell_type": "markdown",
      "source": [
        "### Interprete los datos y proporcione sus conclusiones\n",
        "La mayor parte de los autos tienen precios entre 5000 y 15,000.\n",
        "La Cantidad de autos disminuye a medida que el precio aumenta, lo que indica que los autos más caros son menos comunes.\n",
        "Hay autos que cuestan más de $30,000 y son una minoría, estos podrían ser modelos de lujo o autos nuevos, mientras que la mayoría podrían ser autos usados o económicos."
      ],
      "metadata": {
        "id": "wlnNgb-oymEq"
      }
    },
    {
      "cell_type": "code",
      "source": [
        "#Realizar un diagrama de caja y bigotes que muestre la relación estadística entre la columna del precio del automóvil (price) y tipo de vehículo (body style)\n",
        "\n",
        "sns.boxplot(x=\"body-style\", y=\"price\", data=autos)\n",
        "\n",
        "plt.title(\"Diagrama de Caja: Precio vs Tipo de Vehículo\")\n",
        "plt.xlabel(\"Tipo de Vehículo\")\n",
        "plt.ylabel(\"Precio \")\n",
        "\n",
        "plt.show()"
      ],
      "metadata": {
        "colab": {
          "base_uri": "https://localhost:8080/",
          "height": 473
        },
        "id": "-PNr45pfzLQo",
        "outputId": "c04fbf63-dd58-47d2-a421-1b3c35280c05"
      },
      "execution_count": null,
      "outputs": [
        {
          "output_type": "display_data",
          "data": {
            "text/plain": [
              "<Figure size 640x480 with 1 Axes>"
            ],
            "image/png": "[encoded data removed]"
          },
          "metadata": {}
        }
      ]
    },
    {
      "cell_type": "markdown",
      "source": [
        "### Interprete los datos y proporcione sus conclusiones\n",
        "El diagrama sugiere que los convertibles y hardtops suelen ser los vehículos más costosos, mientras que los hatchbacks y wagons tienden a ser los más accesibles. Además, el mercado de sedanes muestra mayor variabilidad con algunos precios elevados, lo que puede deberse a modelos premium."
      ],
      "metadata": {
        "id": "SO7f3BNR1naW"
      }
    },
    {
      "cell_type": "code",
      "source": [
        "#Realizar un diagrama de caja y bigotes que muestre la relación estadística entre la columna del precio del automóvil (price) y tipo tracción ruedas (drive wheels)\n",
        "sns.boxplot(x=\"drive-wheels\", y=\"price\", data=autos)\n",
        "\n",
        "plt.title(\"Diagrama de Caja: Precio vs Tipo de tracción ruedas\")\n",
        "plt.xlabel(\"Tipo tracción ruedas\")\n",
        "plt.ylabel(\"Precio \")\n",
        "\n",
        "plt.show()"
      ],
      "metadata": {
        "colab": {
          "base_uri": "https://localhost:8080/",
          "height": 473
        },
        "id": "chQIidiu1ZXq",
        "outputId": "7c11e197-1d3c-4d85-c428-d48914a7e3de"
      },
      "execution_count": null,
      "outputs": [
        {
          "output_type": "display_data",
          "data": {
            "text/plain": [
              "<Figure size 640x480 with 1 Axes>"
            ],
            "image/png": "[encoded data removed]"
          },
          "metadata": {}
        }
      ]
    },
    {
      "cell_type": "markdown",
      "source": [
        "### Interprete los datos y proporcione sus conclusiones\n",
        "El diagrama de caja muestra que los vehículos con tracción trasera (rwd) tienen una mayor variabilidad en el precio y un rango de precios más alto en comparación con los de tracción delantera (fwd) y tracción en las cuatro ruedas (4wd). Los vehículos con tracción delantera tienen precios más bajos y una menor dispersión, mientras que los de tracción en las cuatro ruedas presentan poca variabilidad y un rango de precios más reducido. También se observan valores atípicos en las tres categorías, especialmente en rwd, lo que indica la presencia de modelos significativamente más caros dentro de esta categoría."
      ],
      "metadata": {
        "id": "Dx8YJX8r2wdp"
      }
    },
    {
      "cell_type": "code",
      "source": [
        "#Realizar un diagrama de caja y bigotes que muestre la relación estadística entre la columna del precio del automóvil (price) y la ubicación del motor (engine-location)\n",
        "sns.boxplot(x=\"engine-location\", y=\"price\", data=autos)\n",
        "\n",
        "plt.title(\"Diagrama de Caja: Precio vs Ubicación del motor\")\n",
        "plt.xlabel(\"Ubicación del motor\")\n",
        "plt.ylabel(\"Precio \")\n",
        "\n",
        "plt.show()"
      ],
      "metadata": {
        "colab": {
          "base_uri": "https://localhost:8080/",
          "height": 472
        },
        "id": "sR_GFAOJ294X",
        "outputId": "8e855e41-8353-49e4-c366-5b28a42e1885"
      },
      "execution_count": null,
      "outputs": [
        {
          "output_type": "display_data",
          "data": {
            "text/plain": [
              "<Figure size 640x480 with 1 Axes>"
            ],
            "image/png": "[encoded data removed]"
          },
          "metadata": {}
        }
      ]
    },
    {
      "cell_type": "markdown",
      "source": [
        "###Interprete los datos y proporcione sus conclusiones\n",
        "El diagrama de caja indica que los vehículos con motor trasero (rear) tienen precios significativamente más altos y menos variabilidad en comparación con los de motor delantero (front). Además, los vehículos con motor delantero presentan una mayor dispersión de precios y múltiples valores atípicos en el extremo superior, lo que sugiere la existencia de modelos de lujo o de alto rendimiento dentro de esta categoría."
      ],
      "metadata": {
        "id": "fQQ8G7ap3W_4"
      }
    },
    {
      "cell_type": "markdown",
      "source": [
        "### Conclusiones Generales\n",
        "1. Media\n",
        "\n",
        "La media es el valor promedio de los datos\n",
        "\n",
        "En este caso:\n",
        "La media es 13,207, lo que indica que, en general, los autos de este dataset tienen un precio en ese rango.\n",
        "Como la media es mayor que la mediana, esto sugiere que hay autos con precios muy altos que elevan el promedio.\n",
        "\n",
        "2. Mediana\n",
        "\n",
        "La mediana divide los datos en dos partes iguales: la mitad de los autos cuestan menos y la otra mitad cuesta más.\n",
        "Es una mejor medida de tendencia central cuando hay valores extremos.\n",
        "\n",
        "En este caso:\n",
        "La mediana es 10,295, más baja que la media.\n",
        "Esto indica que hay más autos económicos y que algunos precios elevados están subiendo el promedio general.\n",
        "\n",
        "3. Moda\n",
        "\n",
        "Nos ayuda a identificar el precio más común entre los autos.\n",
        "Es útil para ver qué precio se repite más en el mercado.\n",
        "\n",
        "En este caso:\n",
        "El precio más frecuente es 16,500, lo que sugiere que muchos autos están en ese rango de precio.\n",
        "Aunque la mediana es más baja, este valor indica que hay un grupo de autos que tienden a costar más.\n",
        "\n",
        "4. Desviación estándar\n",
        "\n",
        "Mide cuánto varían los precios con respecto a la media.\n",
        "Si es alta, significa que los precios están muy dispersos; si es baja, significa que los precios son similares.\n",
        "\n",
        "En este caso:\n",
        "Con una desviación estándar de 7,927, los precios son muy variables.\n",
        "Hay autos baratos (alrededor de 5,000) y autos muy caros (hasta 45,400), lo que genera una gran dispersión en los datos.\n",
        "\n",
        "5. Histograma\n",
        "\n",
        "Permite visualizar cuántos autos están en diferentes rangos de precios.\n",
        "Nos ayuda a ver si los precios están equilibrados o si hay más autos en ciertos valores.\n",
        "\n",
        "En este caso:\n",
        "La mayoría de los autos tienen precios entre 5,000 y 20,000.\n",
        "Hay asimetría hacia la derecha, lo que significa que hay pocos autos muy caros que afectan la media.\n",
        "\n",
        "6. Boxplot\n",
        "\n",
        "Muestra la distribución de precios y ayuda a detectar outliers (valores atípicos).\n",
        "Nos permite ver si los datos están balanceados o si hay precios extremos.\n",
        "\n",
        "En este caso:\n",
        "Existen valores atípicos en la parte superior, lo que confirma la presencia de autos con precios significativamente más altos que la mayoría.\n",
        "La mediana está más cerca del cuartil inferior, indicando que hay más autos con precios bajos y que algunos valores elevados están estirando la distribución.\n",
        "\n",
        "7. Fórmula de Sturges\n",
        "\n",
        "Ayuda a definir el número óptimo de categorías en un histograma.\n",
        "\n",
        "En este caso:\n",
        "La fórmula de Sturges sugirió 8 intervalos, lo que permite ver claramente la distribución de precios sin que el histograma sea demasiado detallado o impreciso.\n",
        "\n",
        "###Carga y Exploración del Dataset:\n",
        "\n",
        "Se cargó un archivo CSV llamado autos2.csv.\n",
        "\n",
        "Se realizó una inspección inicial con autos.info() para ver la estructura de los datos.\n",
        "\n",
        "Análisis de Precios:\n",
        "\n",
        "Se identificaron los valores mínimo y máximo del precio.\n",
        "Se calcularon medidas de tendencia central:\n",
        "Moda (valor más frecuente).\n",
        "Media (promedio de los precios).\n",
        "Mediana (valor central).\n",
        "Se eliminaron valores nulos en la columna price y se convirtió a tipo numérico en caso de errores.\n",
        "\n",
        "Limpieza y Transformación de Datos:\n",
        "\n",
        "Se detectaron y eliminaron valores NaN en la columna price.\n",
        "Se aplicaron transformaciones para asegurar que los datos fueran utilizables en análisis estadísticos."
      ],
      "metadata": {
        "id": "RVtKn4Fh-n_c"
      }
    }
  ]
}