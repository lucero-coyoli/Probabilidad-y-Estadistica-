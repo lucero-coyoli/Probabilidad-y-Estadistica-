{
  "nbformat": 4,
  "nbformat_minor": 0,
  "metadata": {
    "colab": {
      "provenance": [],
      "authorship_tag": "ABX9TyMXZELGlOG7eeRIU951Ajzi",
      "include_colab_link": true
    },
    "kernelspec": {
      "name": "python3",
      "display_name": "Python 3"
    },
    "language_info": {
      "name": "python"
    }
  },
  "cells": [
    {
      "cell_type": "markdown",
      "metadata": {
        "id": "view-in-github",
        "colab_type": "text"
      },
      "source": [
        "<a href=\"https://colab.research.google.com/github/lucero-coyoli/Probabilidad-y-Estadistica-/blob/main/Programa1.ipynb\" target=\"_parent\"><img src=\"https://colab.research.google.com/assets/colab-badge.svg\" alt=\"Open In Colab\"/></a>"
      ]
    },
    {
      "cell_type": "markdown",
      "source": [
        "\n",
        "# Probabilidad y estadística\n",
        "\n",
        "## Unidad 1\n",
        "\n",
        "###Grupo: **2Z**\n",
        "\n",
        "### Práctica 0. Introducción a Python\n",
        "\n",
        "Alumno: Lucero Rodriguez Coyoli\n",
        "\n",
        "Docente: Dr. José Gabriel Rodriguez Rivas"
      ],
      "metadata": {
        "id": "k-ctLlks6kRX"
      }
    },
    {
      "cell_type": "code",
      "execution_count": 2,
      "metadata": {
        "colab": {
          "base_uri": "https://localhost:8080/"
        },
        "id": "5eh4et2x3l-F",
        "outputId": "adee2d1c-ccb3-4bdd-8d87-2ca8cd1302f8"
      },
      "outputs": [
        {
          "output_type": "stream",
          "name": "stdout",
          "text": [
            "25 es mayor que 12\n"
          ]
        }
      ],
      "source": [
        "a=12\n",
        "b=25\n",
        "if a > b:\n",
        "    print (a, \"es mayor que\",b)\n",
        "else:\n",
        "    print(b, 'es mayor que', a)"
      ]
    },
    {
      "cell_type": "code",
      "source": [
        "for i in range (10):\n",
        "     print (i)\n",
        "     print (\"Hola\", i)\n",
        "print (\"Fuera del for\")"
      ],
      "metadata": {
        "colab": {
          "base_uri": "https://localhost:8080/"
        },
        "id": "DuTVHKlR4tyt",
        "outputId": "d6bcd8eb-4620-419d-e68a-8f58dbea85d2"
      },
      "execution_count": 6,
      "outputs": [
        {
          "output_type": "stream",
          "name": "stdout",
          "text": [
            "0\n",
            "Hola 0\n",
            "1\n",
            "Hola 1\n",
            "2\n",
            "Hola 2\n",
            "3\n",
            "Hola 3\n",
            "4\n",
            "Hola 4\n",
            "5\n",
            "Hola 5\n",
            "6\n",
            "Hola 6\n",
            "7\n",
            "Hola 7\n",
            "8\n",
            "Hola 8\n",
            "9\n",
            "Hola 9\n",
            "Fuera del for\n"
          ]
        }
      ]
    }
  ]
}