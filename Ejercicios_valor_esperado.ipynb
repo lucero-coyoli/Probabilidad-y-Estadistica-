{
  "nbformat": 4,
  "nbformat_minor": 0,
  "metadata": {
    "colab": {
      "provenance": [],
      "authorship_tag": "ABX9TyNv9yzvjn1CDOMysq2SiZVM",
      "include_colab_link": true
    },
    "kernelspec": {
      "name": "python3",
      "display_name": "Python 3"
    },
    "language_info": {
      "name": "python"
    }
  },
  "cells": [
    {
      "cell_type": "markdown",
      "metadata": {
        "id": "view-in-github",
        "colab_type": "text"
      },
      "source": [
        "<a href=\"https://colab.research.google.com/github/lucero-coyoli/Probabilidad-y-Estadistica-/blob/main/Ejercicios_valor_esperado.ipynb\" target=\"_parent\"><img src=\"https://colab.research.google.com/assets/colab-badge.svg\" alt=\"Open In Colab\"/></a>"
      ]
    },
    {
      "cell_type": "markdown",
      "source": [
        "![logo.jpg](data:image/jpeg;base64,/9j/4AAQSkZJRgABAQAAAQABAAD/2wCEAAkGBxMTEhUTExMWFhMXGB0bGRgYGBsdGRsYHR8gHx8gIB8fHikgHh0mGxggIzIiJykrLjMuHSA1ODMtNygtMC0BCgoKDg0OGxAQGy0lICItLS0uLi0tLS0tLS0yLS0tLS0vLS0tLS8tLS0tLTAtLS0vLS0tLSsvLS0tLS0tLS0tLf/AABEIAOIA3wMBIgACEQEDEQH/xAAcAAACAwEBAQEAAAAAAAAAAAAABgQFBwMCAQj/xABPEAACAQIEAwQGBgcFBQQLAAABAgMEEQAFEiEGMUETIlFhBxQycYGRI0JSYnKhFSQzQ4KSsTRTorLBg8LR0vAWY6PxFzVEVGRzdJPD0+H/xAAYAQEBAQEBAAAAAAAAAAAAAAAAAwECBP/EADQRAAIBAgIIBQMEAQUAAAAAAAABAgMRITESIkFRYXGx8DKBkaHBQtHhBBOS8YIjM0RScv/aAAwDAQACEQMRAD8A3HBgwYAMGDBgAwYMGADBgwYAMGF7ifjGmorLIxeZraYY+9IxPLboD4nn0vhfWkzbMd5X/R9Mf3ce87DzbYr/AIfNTgUjSbV3ghpzvimjpP7RUIjfYvd/5Vu3xtha/wDSJJN/YcuqagdHYdnGfMNYj52xVvNkWVnYCoqAdztNJq8yfo0b3aTiWOLM2qv7Hl3ZJ0kqCRt42JT8tWNLKkkr2827LvzJXrPEEvsw0dOPB2ZmHxUsPywfobPW3bMoE8khVh82S+KvL6HNqwyA5tCvZtpdaddWhvskhU3HhqJxyquEnWZKeXOauSokBZY0L30DmxvKQi9LsQCdhc7YG3itsfS/Uuf0Fng5ZpEfI08YH5Jg0cQx/WoZx4d8E/kov8cVMHBgMTypnNUiRlhIzuy9mye0Gu62tb5WI2IOPdNkGZrGklPnLOr20dvG41X5ftNZ358uW/LAaUXtj/G3RFkeNa+D+15VMF6vAwkHyFwB72xaZL6QcvqTpWcRvy0S9w38Lnuk+QJxQ/pjPaY2lpYatVFyYTZ/kN+nSPEaXirKK49lX0xgm5HtkII/2i2ZR+LTgHTTx0f4u/sagDgxnUXCtXSqJcpre0hO4p5mDxsPuMNgPdp82xZZHx/G8nq1bG1HVfZk9hug0v59L7HoWwIulti79fQc8GDBjCQYMGDABgwYMAGDBgwAYMGDABgwYMAGDBgwAYQs14qnrJWpMqAOnaWrO8cY+50ZvPfyB9oRs1zGXN5no6RylChtUVA/eeMcfiD48jzPdsH+ZrnopiuVZPEGqBszDdYvtMxOxfxLbA2vc93GnphTtnn7Li/sD/o/JBqctU177lj3pnJ67k9mpPXmfvEYrp4q7MnVK2pWiikBMdGjqs8q/hYgm/39rj2Bi14a4YipqrsnkEuYvC07Tyd4rdgn0atzNybud9h0awZeKMqhmjVpoFn0HSyaA2pHIDAX9mxs4NxbQNwCTgZKqk9XF738IWajKoaDLJqmhpdNVGh3kAeZGDBZN9xdQGbu9w2B3BxLrJZVzHLpaSaSSlqkcSxl2ePs1TWko1E6d2ALC1+6OuKxOLKaheSnoTUV0kjArHrMixkAKQJTqdlsF279rHcdPUeTZ1Wbyzx0ETfUhH0njuVN+v8AedeWBjpyetN25/bMt6AtS5hmMkilYJuxdGYqq9osZWQXZl+yp+eKnMszpI82izBKymdTTmCWMTJqUatSsm9m72xBIsNxfliLUcF5NTsTW1hll69rOA3yWz/MnHH9JcMR7BEe3jHM/wCbjfCx0qMXlpPkjxVep1FDmFO2Y0yS1lQ0w7/dQak7NSevdiUMR1Jtewu85fmhqJoeylhMARu0UPFIe0GnRoKkm1i9ybcltbfCT+muGW2MSL59jIP8ovj0vDnD1TYQ1AiY8rTFWv5LNf8AphY10YrNSXkM+WQipzaoqGTuUsSQQlhzd7vK6336ql/JrdbxJe0zCmnqZKaCaEF/VoGQ9q6xkqSZNXceQqQukd0EXvc2h/8AZHM6XvUOYmVOkVRuCPAE6h8gvvxHynjRqOQRZhSyUmpibxjVAzsSzMBuRdjchGYXNyBc4HCpPODv19DpV8DVNCe2yupKXO9PKwKOfAFtieg1AN94Y+wcSUmYfqOa04gqRsA91Go7XRzuhPQE2OwBa+PtfmtHHLUZhVutRchKGIEOGjMaX7FOrvKzKzbkAWJA2xZ0HCnruWwJmKfrOgnWNpI9RJCgm57qkKVN+W9zgaqt3r579v5KztqzJSBIXq8svYPzlgHS/ivTw8NOwOgZbmEU8aywuHjYXDD/AKuCDsQdwcZxQ5zU5TIKTMT21E/diqLE2H2WBuSLc1NyBexYcutfQyZS5raH6XL5LNNApuEB/eRnlpt16Dn3bFB1OGlzeT2P7M0vBiJlWYxVESTQsGjcXBH5g+BB2I6EYl4w8rVgwYMGADBgwYAMGDBgAwYMGADCHxrmctVOMqpGszi9TKP3UW11/EQeXmo+sSL/AI04hFDSvNa8h7sS/akbkLdQN2PkDhVp2/Q2XPUTd+vqDqa+5aZrkKbfVS5Jt11W5jGl6Ufq25Ln+A4hzH1VYsnytf1hhYsDvEp3LM32yO8T0G/VcTMlpKfKTFS6ZDLPu1QI79rICCYwd7WUs2n7IaxLXOIOR8LVlPSvOqJLXT/STiVipZCbmFXU/RuQbl7WvYcrFbzMs8oqjL5ZKhZEiTuyI6lZklW1lF/3oaxVgedjfrgKkvoj58X3kcuLJaMk1Uk8tPNRuUWWOwZi6KxjAZWWUEMNrGxB5WOKCCkrs570jNSZcegt2s45am2sQQOdtPKwbnjnw7kfrdsxzACOjjUtT07MSgTmXctu2o94s27nc7WBltNU52xSItTZWCVLgWkntsQL8l6W5eNzdVFIxUMs1m9i4Lez1DxBSUhNHlFL6zUfWKewD4ySn2vnp6XHLEleEswrO9mFcyIf/Z6XuqB4FuvuIb34Z8npKOjApoOyjbY6Aw7Rul2udTE+JxcYE3Vs9X1eLFjLPR/lsA7tLGx8ZLyH/HcD4AYv4KGJBZI0UfdUD+gx3JxV1vEdLF7UoO5HcDPuASQdANrAE7+Bxje8k5Slm7k+SljbZkUjzUHFLmPBOXzA66SK55lF0N80scWeX5tBMPopFbntyOxIOxseYPTE3AKUo5Mz2T0eTU12yyulgPPspDqiJ+Vh7yrHHBuMXi/Vc7owqPsJlXXA/vG/v2JPiq40nFBmOeZfJrgmlhdd1dXsV253J7ot79reWF95VVdLxq/Hb6/cUZuFpqT9cyWbXE3eanLa43X7pv3vidXOzdMNPB3GENepABjqE/aQt7SkbEjldb7XtcciBhUrsmqcnY1NAWmoSdUtOxJ0jqync2t9bcjbVqAuO2a5VFmUa5nlj9nWJvtZSzAbo45B7bXNwwIBupBGlZJTWs+T+GPubZZFUxNDMgeNhYg/kQeYIO4I5YzbIczbKZxR1Egly6YsIJjYqhvZlboADsw5A77Am0ul4glzOEIZTSrHda5I0f1i42HZ8ykbd4MbalIt4nEjKsnpq6mqKeKnMGXoEWnZkZGMqhi8yq9mt3kGo7tZ79cCUXoNwnl3iiPIpySsDC/6LqXsw6QSnr+Gw/lH3BfSVN9xyxm3BtR6xFUZNmAvNCNIN92jFtJUnql1IPgUPQ4sPRxmMkZlyupP09L+zb7cH1SPcCPcGUcwcDqrBtXea91sY9YMGDGHmDBgwYAMGDBgAwYMV/EGZimpppz+7RmA8SBsPibD44GpXdkJzj9I5zbnTZeL+TVDf8pHwMZ8cRqFf0pm7SnekoO7GOjTX5+feW/8Efjjjlc5y7IXqSf1iovJq6mSbZD8Es5Hk2LngeWky+mp6SWeGKplAkaN3VXLychYnmBZB46caeqT0E2tmqvl97x3xmSx/pmvN98tpG2H1ZpuvkR/u2/vDi99J+dPBSCGG5qKphDGBz72zEfA6QehZcVGfwmgoKbK6T+01J7MMNue8sniBvbyB29nA5pRsrrN4LhvZ5qi2dVRgQlcspmAkZTbt5R9UEfVHl035lSL7jTiBMup0VFCixAVdgsaL0A+AsOl7bjF1w9k0dJTx08Q7qC1+rN1Y+ZO+My9KdGZKtpS4Ahji0rcFnYM7aVXxLtGLkWsw52xzJ2RxKWk7LJZd8SHK8csyEQkkyDtlAWxlCorsq+0V1gnUdydwTcXfPR/n7zwqkxvLYlSebKCQb/eUjfyI88JNLOIpImJkBMYu6ykxszKqX2AKg9O9qvte+kYXBmzwSR6WCEBmDq1rnYNYXJKki+rkWL/AB80W4u5RpTVh94u4jm9ZmiBbslVQiRi7O4dSSSBcN3XFr20rfnhdScsillIs8q9SLmMnn4gn42OLvMGigp4Z5mjaaVAxsFXUZO8zm9jtqPMgb2tytQVskEcSkSQksCQqur6LgkXs571iRe/gelsSTnUbvFqzefPA6jZJWJHbkP2oLKewezKzKR3yL3XrZhte/eU2sb4aOBuMidNPWSAyM30UtrBgbWRz/eAm1+vd6kakSHM4CkoLLcpJ3b23KqBbwsdxvyU+O3KqqIZY+zFQFAOvVcqe+sSnoRcOvLpdjsBfFIOUWJwUjVeP+IOwhMMbfTyqQLc0U7M224Nr6fPfocZbmMLMbxMFHZRxqRbmsCBrAm3IlferdMeZKpJaiYiQIV77MNZUNtezqfEkDvbW62OOUFSWES2ZUVpRKF3YBbKxFjsCistiLkKTa5IwneTxRkUoLAe+E+KDFVJSTOGWYuEa91EwZjZT9hl9m9vZHUkY5cR5c+UVP6QpFvSSECpgHIXOxUcgLnb7LG3stYIldXHsxMV70cqTagb6fpFduZ5Anaw6nxx+hKqnSRGjdQyOCrKeRUixHyxejK8Thy0JcHmjOOMafs2izzLyGsAZlHKSI2Fz7hs1xtYHYpiRmtZVZhpEVQkFDKisnZsFqJ9WzqXbaLQdm0Bm2+9YcOCWNFWT5POdULgvTlt9SMDqXzuoNxy1JJ4498CXoa+oyuTeMkzUpb7J5gX66fzSQ9cVOqkLxtuxXFfgj8dZNLSrBmEK2ejZU9suz09gBrJFyQzMl9yUbUTfYSONpxoo87prns9PaAc2gk2sfMFivkWPhjQq2lWWN4nF0dSrDxVhY/kcZz6OYtUNdlFRv2TOo845Lgkfxd//aDAU53jd/T0Zo9LULIiyIQyOoZSORUi4PyOOuEn0T1rGkellP0tJK0Le4Hb4c1H4cO2MITjoyaDBgwYHAYMGDABhE9Ljl6eCkU2NVUxxn8N73+DacPeEPij6XO8ti5iNJZT8QbH+aMY1FaPjvuu/REX0iRCery3LgB2Zk7R16aEFgPdoEgxbZhAC8lNU5a1THK7ESoImVgxuNet1aN0FlvuLKCCPZC5m1Qz53VMoYvT0WiPSQD2rhQgUtsGLVFgTthky/i2QNFBJl1fGWZU7R1R4xcgXeRXNufhz2wNq4KMeHUpMoo+3zhIyxeLLKZEBY31TMoGok7kkE3J6xjE7hpfXM2q6w7x036tD4ah+0PvuTv4PiH6N6oLSZhmLfvJpZb/AHEBYfIswxdeiqiMeWwlvbl1SsfEuxIJ89OnArU1U+Fo/L74jdjHvSDE/rszHkWhWIddfZkh+e+5IGxtpJHLGw4yb0jZeI8xjlY6zUxSW2sYooEDOFPMmTUV6W1HmbWnUWqeem7MT3Nox7KoXZrkgD/q+nfFXxFAEOwADFivW4UBefUDbe++LioW1wLkGZ0UbHuqDbpyIAO3j78L+fTXIAFlXWVN+jiNt97XHW21+WIUlrntg9ZczS6LgeOssjzyDsU0x6tLHRfYGwF9Nxv1vta2Jh9DsNv7Q9/wi3y9/ni/h/V6sWWysdNhcjTtYm48COV9xz5jEau4ikqqcyQlooe1aGTl2h7wW6sD3BpLG/MEcx17/TVJSTU84tp9V7NHE5TTTg8H31uUx9DsX/vLW/D/AP3EXMvRbBBGZHmdwLDSLISSwA3s3jyt8cNWYcUijnaGQh4YoQzd68/MAtu3eUAkkDfla/LHriurEkkUYa0YXtGPkeR94UMbfeGH6qs6VJyjnkubwXuKUqsppN4fGbMXysgGZVFkZ1HeJNlAkbcqu57oHIA38bDE7LAY93DCO6gGxs2sAD/Pfe3dN8eMlpQ1S8dtu2QEc9gJDz68vDFrmbo+hr6xJJHcXBN+zXVqHT6RLb+I8cc1FrY8DqpLWfl0RVZxGYoZQmgqiORcKbqjqLHVzB0KbLvbUb2x+iwcYDnNLGWhjYDsZnSKQG/0YlkPfTfZwGNibg6bEGwtvVLDoRUuW0qBc2ubC1zba5x3RyPLVzEP0u0TJHBXxD6WllU38UYjY+I16R7mbxxG9I84CUGbw3PZOhNuZhkANj/l/wBocPPEVB6xSzw/3kTKPeQbH4Gxxn3DR9c4cliPeaNJFA+8h7SMfAFcXLUpaqb2O3kzT1lUqGBGki9+lud8ZrV1UcWfU1RE6tFVo8LspuDIhKEfB0jHwOINLQesUFHVLl36QbshEUap7NVaIlAxRu49wu7e13V5gkiLxbl8tLRUVTLBFBJHWa+xhtoiRu8EFtr/AEKkkbFiT1wRxSjao4c0M+W/q+f1EfJKunWUD76HT/o5+OH7CFxr9HmuVTjq8kRP4wFUf4zh9wOKuKi+HTAMGDBjCQYMGDABhEkGriNfu0P/AOQ/82HvCHKdPEa/eodv/uH/AJcaitL6uTK/h8sc3zZlRHf6JQrtpUg2BubHovgeXLDfXZhUJG/bQxqCj2aOYvYhGbvBo0sO7bbVuRtbfCRl1BDLmmbQVBIjfsWNnKE2ZGUBlIIuzKNjc3t1w0JwVRU6SSRRt2hjZVaSWSSxdSvdEjkKxvpuN9yOpwZtbxrkuiFnIRo4Xc9TDPf4u6/0w/cLw6KKlQfVgjHyQYQsg7/C7jqIZ/8AC7n+mH3habXRUr/agjPzQYM7r/V/6ZaYyTj7MhLmEkZ29XhEa/avKBLI48tEaRi/UtjW8ZRx+h9flNtjFTi/mfWtsSq+ElT8Qq1hSSMPbd5peh21JY+8dOXK45HC5xEtinmjn8wP9MXlPETTLzLGpkAHvVrD8hj1JkgqHQs9oVik76/XOptITY82CDcX+kWwJvbzQmozTeR7ItRs+KNh4vgcR9uilmjClVBVe8rAg787AsbE2sDtvjPcxrs4TtFpqXsYO0ZgYIRdt+ZIJJNlHeFibe7GlcP5l69Sa2ieBtToUcd5Wjcrv0O6g25cxvjhRySxU0ka37QNIsdrMRszC1/aIYMoB5kDob49STU8Mn1/roeaNVRjir237u+pn1NmWcFi8lG1VEFW6zRKLSBQSR3dZIkv3RffYWOGChlqKqdZHp9BYR6gGGy93Vsw3AVjf8QAvi4yDOaqZJWaMgq9gjjSwDWsoNgCRe9yBtb34n5WStNJLHGTLpYhSGALBbqq/aW+wYcxbwxn6ijpSUZLJ39MvcQ/VRnDSikrq33Mh4WjvmLr/wDED/LNiqiiN3S3fD+F99EVvzXDnkuXRrmUbIZVdpmMiPE4BYB1OliAoUFmNwzatrAAE4WK9F7RuRLAFvf7Iv56FX8seapNSTkuXQunpSXl0K7OjI4njdhpQHTIXAAKGy77WJZgRz5t8P0Pw/VPLSwSyoUkeJGdCCCrlQWBB3FjfH59zUHssxXmQGHhyMf/AJ4/SCHYYvReDPPWWKPuM59EMY7Kvh+qtU628tIX+i40bGd+iBgY66X6rVbm/lYN/RsXEP8Abl5Fd6O61xlUCJUx0v0kv0siBhsdWgamVQx1ltydlaw5kePSEzvlk5etiq9MkJBjVF0ElgQQrNzB5+/Hz0ecRGiyyJjS1M6M0js0CB9ADabsCwNjpPK/I46ekrieOqy6dEinjKtDcTRNGbszmwDC5sIjvy39+G0r/wAn/L5LH0gvdMpk6+twH5gH/TGiYzz0hpZcpi6+twD5WH+uNDwJVPBHz6hgwYMYRDBgwYAMIXFH0Wd5ZLyEiyxH4A2H80gw+4RPS7GUp4KtRdqWpjk/hva3xbTjUVo+O2+69UUudUbfpypiUkPV0R7Mhih7QKNNmAJU3p/aANueGmg4BpEeOZu3aaNg4aSplksw36tpPhuMUPpMlENRl2Yqe4smh2H2H71x/B2nzxf0/DE8qWrcwnlJXvRw6YI9+e8YEhHvfffbpgbVxUZcLehT+jOmBpK6gb91PNFb7jCw+Z1YtvRZVl8uiRtpIS0LjwZGIA/l04rKRxS57It/o66IEHp28Q3Hv0hj73GJGRN6pm1VSnaOrHrMPh2nKVfxG2q3gMClTWvxtL798B4xk3pCJGZ2sdJjpLnoD2lQAPebn+U+WNZxlfpG/wDWA/BSH/xanEqvhI0vEKmX/sof/rD/AEYf1B+WCJgsSSM+ns7go8ReNrhhc6ULAjUbHf2X2tcjzlxtDERdrVjE8z9Vtv6CwxBqGm9VYJqPdR5WUkFQNYJ2+qe1uff4Y8sYpyS3nqtpYcTdeGZj6t2ryMUa7r2iqnZx9F2J2AF9RJJuTfoItRUuZO0iBX2gwuCsgDWU8rAEA969xsNzcYScq9J1OKIRTRkSqukoq9x1H2Sb6Tp+0LX2v1x1b0j0egj6bUSxuAwNiLAA3Gk8rm/O588e6x5nRqJ20WNMtRIyKRIxS2qyqoDXIBuel7Hlp0lidzpGLvtBPTuo5shBVHIIuCBZhYqfA7Ee8YzCl4+ogoSSOQoCToAOmxBFt2JHUkCw3AvYEGRlfpOpYSSe1ZStyNC6jILAbkgAWHjzbkOqzM/Zqf8AV+hzymqSatQpNIJoXF0azoPpyJO8Rq1FJCmxAFzZbAErWbRgTMPu2O//AHkn52tj1wfIyyz1RRrPqdRYnYuZLlgLAdwqGNgxDAbgjHjMJVeaRl8SfMqWJA99yf8AoY8dZKKaR6ow0ZWISsGSuMhNmRiSBc3OkXt1F+Y8L2x+h8vN4oz9xf6DH59pE1LUWBOoEADe/wBIotjfclk1U8LDkYkPzUYpQeZGvsPOfV4gpppj+7jdviASB8TthC4QX1Ph6SU7M0csg8y10T5gL88T/S1WM0UNBEfpquVV9yKQST5atPw1eBxz9IkA7CiyqHbt5ESw5iCKxY/Cyn4HHpOqcdVJ7XfyXbIvCfCFPUU1NHNPKwhhRjSrIyIskhMwkcKQzN3xbew0nrfEP0h5QUSkpXqJaiSpq0u8unV2ajQFARQNI7a/LmxOGSoynNXmcpUUtPCrEQ2haSRY+6BfvKtzoBtvztc4rKsNU59TxMQwooC8hVSF7Rh0BJtu0ZAueR3OBxSleo582SuNPpM1yqD7LSSkfhAKn5ocPmELK/1jP6mXmlJTrCD99zq/1cYfcDmrgorcuuIYMGDGEgwYMGADFfxBlgqaaaA/vEZQfAkbH4Gx+GLDBganZ3Rl+TwHMcielYfrFPePT1EkO6D4rZCfxY9cJRtmNLTt286It46lIHWMvIgUI7vYSENEACFb7I5A4mSn9HZzq5U2YCx8FqB/xJ+JkPhiAb5VmzrcpSV/ssLWjlJ8wRs7dRa0i9Fxp65LTTS26y+V3uO/HOR0lNTxR0Zihq6d/WIItf0kmn27AnW5IS55ligxO4hvmFBT5hR/2mAiaIczcftIjbnexFupUDkcecuyOaTMK+pmianiaGOGKR2jaSybs4szBRcA3J56SRcECBklfHl1WAjA5XXMWhkHsRTXsRfloa2x5W0kbBjgTpSbVlmsVxW1d8R64czqOsp46iI91xuOqsOanzB/49cZ16RHPr0hvssdPbyYessPzI+eLbM42yiqaqjUtl9Qw9YRRfsZTt2ij7JPMfD7Ixb0/CcE1Sa5p5J1ks8aXXsgLLYjSAWFlXmTy64nUjpKyMsoPSWXeAg8PcNyVSKkJtF2kjGYA2+qAR5ltVhzHXGhcH8IrSI/aaJJH7pIXYR2A0bk3FxudrjSLbYZ8GMhTUcTiVRywEvO+CMsjiklNGtwpsiM6AnewAQ7Ek8wNvhjOo8rgMO0S9oxDAsgXudlLa1tl/ZhgBuTYnc42HinLXnhCpbUrq4v1tfbmPHxGMur6cwqqOGBQhbMpBCokig26gn/ADDyxzVcthSlJ7yoGTIzySCNVCpCez09ZEUDu6dgxV7nndrjls1ej6jhdhFNGNUkepGXuEFdBYHRaxYOrC1rd8bADEXIlRUsWYNogI094s0J7VlHS5WQCxtzPgcXvCGSTPOlWSUjDyN3ubhlC90cwLrzIFxbGRcnZmzlhZscpMjgMMkOiyS37SxYMxYWJL31FrAC972AHTCVxFwPIkLNCxmIHsFFEjEuGZiwIDMAo7oUX07bm2NGwYrKKksSEZOLwMAokeLtUkjkjtZ1JUo5BeMllDDcBjYHxU/DasnqgtIskjIqIhJYHuCNb2N/DQAfdiZX5fFMpWWNXW1u8PHwPMchy8BjMq2Ja6Y5Zl5ZaJCDVTa2YG2wRCxP2beZHgpvzTp6LZZf6ueFs+RY8ExtX1s2bSgiJbxUoboguGby5n4u46DEegnWrnrMzkgkqKWNGpoIo01tIm/aMFJGoNcjzDsDyxYcWz7RZNQWSSRAJCu4gphsSfNht4m/iwOJVJWOlEkmUmmqKaFCOy7wd9O5tKGssh52ZOZ54qbOeF9+C4L8/cjZdmNYsnbGP1bLlVnkWomSWTSoJvGE1FN7AhpGAGyqp5w/R5Lopq3NqgWM7PJ7oo72A/iuo8Qq458b5qK71WipPbrVjkke3eWm9tdXzLW8iPrY78cxB/VMlpu6JNJkt9Snj8fM6bjxK2+tgKcNWz+roiw9FFCy0jVMv7WrlaZvcx2+B3Yfiw64508KoqogAVQFUDkABYD5Y6YwjOWlJsMGDBgcBgwYMAGFyDOJDWSoSDAuwFtwVC3II595iCN+W3gWPCHPUdhVSFuXasCT4SFJAfkWHvAGJ1JNWtvOoq5fcZ8PrXUjw3Af24n+zIPZN/A3IPkxwq0YGc5c9LP3K6nOltXNZVuAx+69irW66rchh5y+fvNGem493UfAn88KHG2WS0065tRrqdBapjHKWLa7bdQALnyU/VsaJ3LUpPw7c1z/ACUEXEkkuWVdPOJDXUsLr2Vrlz7KyFbHWyE3N7jYP1BDZU5XAMt7Gr0xUUUCoC+0g0ABZL/Va42WxJuL7krin4lysV0cWbZY36ygvYWu4AsVYf3gF1sfaF13FsS8iqqTOexlm1dtTEl6Usey7TYCQofaC2Nr8tRB3xoqR+uOG/gyLwnxF2WjL69hJFKn6tUMPo54mAsjhuTWYCzeIB+qX6S0VTk7NJTK9RlpOp4AbyQX5sl+a9bfPq2HPPskgrITDOgZDy+0p6Mp6Ef8QdiRhNizKsyjuVQeqoBslQovLEvhIOqjx/PcKB1GWllntW/lxHLIs8gq4xLTyB1629pT4MOan34scIk/C1LVn13LKn1ec/vId0Y8yJI9t78xtvzBx5HE2ZUe1dRGeMfv6TvfEobW950jywJukn4X5PMfccqmmSRSrqrKRYhhcWOFrLfSJls3KqRD1Et47fFrL8ji/gzSBxdJomHirqf6HGE5QlHNHmiymCI6o4kVrEXA3sbEgHmASoNuWwxNxGlr4lF2ljA83Uf64pcw47y6EEvVxG3SM9ofkl8AoylkhjxwrayOFGkldURRcsxAA+Jwitx/UVPdy2hllv8AvpRoiHnzsfcWU+WCHgeWdvWM3qu2094QqdECe87X262HmWxpT9q3jduvfMjVudVWcM1PQ6oaK9papgQXHVUGx+HPx0jZrGvrYcrijoKCLtKuT9nHzNzzllO223W3KwsouPEvE7z/AKpk0SsE7rVGm1NCPu7WdvAAW5HvC+L3hXhaOjDNqMtTJvLO/tuf91fu+698CkmoqzVlu+WKXDrT0kMtTBAtexkYVUomInd0Yq4jjMdiiEHSNQLcwBcYuOKKukhy5ZldoqVxrWKDTH2/agsEuF1LqvqLIVNtRviPXcPJl081fFWtTQSEvPAUV0dz1jBIKyE7jZt/LbFZwxlTZhLHXVS9nQ062pYGO2lbWdr9O6DfqQPqr3sJxWm3OeXeC7wJPCFIKKmnzWuss8q6rWsUj20RqOhaygL0AQdDif6OcskftcyqR+sVe6j+7g+qo94APuVOt8Vy3zqrB3/RdM+1+VRMP9wX+R+93XnNpiFCIbPIdIP2Ra7N8By8yuDdjupJrDa8+C2IqqjiI+uRQpbsdTI7eL22A8g2x87+G7JhCel/WqeJRbRKCLfZXS1/yYfwnD7idNt3uRmksgwYMGKHAYMGDAFDVcYUkblHkYMpsR2cnMfw7/DCtn2cwVDll2NtJDAjtIwTZrECxUkkDnpLdQBhk4kobXkA7p9ogC6nx3BFj7tj7zigkp6E7TCMX5Ot0a/3gOvnuPdtjzSlJtxaKJK10eKXPT2K3ktMFZL3Gq9wgY+YVtd/FfPDVw/aNVhHsFLp5W9pfcL3A/F0GM1nolglQsVeJj7QOpSBzvtbwOG/Iqi0SqT9JBMoJ8RI2x/iRyPffGwlibJFbm2WzZRM1ZRoXonN6inH1Pvp4AflyPdsU+ZxkCVgXNMolCVPM2IAc9VYHZZOhDbHrzvi/r8+l7R5Y7erwnS4tcuL2dh1Gmxt46T4i1TmvCk9JKazKSoLbyUp/ZSD7u9gfAbc9iOR9CkmVhUvng/Z8GS+D+PUqG9Wql9XrVOkowIVm+7fkfuHfw1DfDoRfY4zhny7O17KZDT1yCxVu7MpHQEgdoo+yRceC3vjguYZrlPdnQ11GOUi37RF8zuRYdGuOQ1jGmSpJvDB7n8Ms+JeE6am1VlPUPl7j2njBMJ8NcfshfkLnkScfafiDNIFVp6RayEgETUh7xUi4PZnckjwsMVXEPFEWaRQ01MQYpZovWEZwk4hDanUISA4NluyM22rbGngW2GBw5yWE1fnn6mf1PFeS1LaauJY5fs1NOVcfxaSB/NiO3DvDkhuHpgT4VRX/D2m3yxfekGWcRwJDZVkmCSymETdlGQe8EII3YAaiCBffFPwJlVLVxT9vR07PBUywCQU6xmVUtZyukaWOqxHiDgdRqpZOS8zgeFOHU9qSn+NYf8A9uOq5tw9SkdmKdn+rojMr38ms2/xwxz8KZZEjSPSUyoilmZo1sFAuSbjkAMUHo8z1ZKytpjHTxdmYmhSJUFo5ELFSV9plFgxGwJsMA6qebk/P+yU3F1ZOLUWXSBf76rIijA8dN9TL7iMVmW5UtfJH6/WPUa0MscMSvHSsiFQxVrAyBWdbE2NmB3GNHniV1ZGAKsCCDyIOxHyxiQy8ZbPHpFRSmGpe0j1CmmajMpYqsWppJC0QUFVW+sAki2MOFUeUFbr3yNqpKVIkEcaKiKLBVAAA8gMVHFXFdNQR6pn75HcjXd29w6D7xsMKs3GtZXkx5VTkJyNTMLKPcNxf36j93H2DIqLK/13MZ+3qzuHe5OodI0uSSPtHl90Y07VKz189yz/AAcsvyKozKQVuafRUyXaKlJsoXnqkvawtzvueuldj6rq2XOJDS0hMWWobTTgW7S37uPy/wDM7WDeloqzOSGqA9Jl17iG9pZx0L+C9f6X2cX3EFf6jDHFSxqqpYlQO6sYIuPexPPyY88ZKSSuzuU7PjsWxfdk6vZKKlWKnULyjiUcgxvv52F3N+dj44UsuzgoNMr6mhEq3LXYi6tv1ubEfwjFzmmZJKe1HsLTFlv9tywN/vL2Wn+I4T5qZ56hoYxzOojYhbb332v3rE9eWPNUek7JkY72MeS5hFFNqmYdow38naxt5bGyjw1eGHGLM4GOlZo2bwDqT8r4QBBTQnQXjeb2pHle6Kx590G7tf6o+JG17Lh+lNTOshQLBBuoCBdUnQkDkQO9b6vd6k46ptrAyS2jxgwYMXJhgwYMAcaupSNC7myiwOxPM2GwBJuTbCHmz0ktzDBUlt7GNNMZPS+vkvuGNAdAQQQCCLEHcEYo6jKHjJaGzD7DHf4Hr8fmcTqKWw6i0Z0+UVJB/V5APIHn46RuD8MTuFptNQElvcEbMCoDKG7Nm1AHZmsARzIN9hi1zWtqItgrwj7zh1P817fBhhXzPMnkIJaMsvJhsfd7RBHiDiOTKZjjw8bpHH9UwksD1P0YF/P2h8cREr5HjgokdlZHKu6mzaY3YIAfHQhY/hXocVWT5m6kFQgZUe2pu6NVm576hqXa5G5AJGxPSifS/aBWUEqSS12KuNJkJsObhidhbfwwjKyMaGSv4cpsyhEk6aKhO6ZY+66Oh8eq37wBvsQRbniqjqc2y8DUozKk6Om04Xz5ltvxX+0MTOIKkxLUIpsJlX8g/aH4xRgYuuGyYo4oWOxjXSfBwveX3Hdh/F4DF4z2GqbSs8VxEyQ5FmhOq1PUE2N7QyavP927X8dRxJXgzM6b+w5kWTpHOLi3gCQ4+SrhlzHLMvrpJIpoUeVNiSNL28VcWawOxsf6i9L/AOjcw70NfU03gmrXH/Ldb/EnFE7lVVVrXtwauu/Ips2bOWKes5ekxiJMctPKY5FLKVYqyyFt1Yi2m3lsLdso4xqKWJYVyWqRFvyMrkkm7MWMV2YsSSSTcnFoKHP4vZqqSoH/AHqFG+SKB+eD9KZ8vOhpZPNJdI/xSYC0Xsj6tEOo9INRIpT9C1LqwIKsr6SDzBHYkEYr6GpzESvNSZKkEsgClpHNtI5DQWjAA8hi8/TGenll1Ovm0ykfk+DRxBJzahgHiA7MPdfUCcBaK2R9b9CMcizyp/b1sdMh+rALsPiAD/4hxFk4cybLyZK2ft5uZEza2J/+Uu5H4g3vxZf9hqyf+2ZrO6nmkIEQ+Ntj/Li4yTgOgpbGOnUuPryd9r+I1XCn3AYB1UsNL+Kt7lCnE1dWAJllJ2EFrConAVQPFEFwfIjUPEDFpkHAUUUnrFU7VdXz7SXdVP3FNwLdL3t0ti/jzmBllYSArCSJD0Fhc+/w26gjCZT5tKlbHUSXCzXQp9lPqD3hrX82bxxxKolZbyem2moqy9/UsOIuIZIqlHUnsIzodR9ckXY/wgWH3gR1x94jqVME8wOosQijxW+iw/iLN8TiBn6DsY1J3ZGZvxgozN8bt/NiuYkUsL840aIuCbENb6twNQI71uhN7kHbzuTd9pzZI9vKIqKPWDqEpA8CgKMyn3t19+++9PSx1JLlUks5uxGqzDc2JUaiNzsDY49U+YMz6tAbRfQGNlBJLHYDdu8bAcrnri9gzStIskIN+qJJqH8ysPyOG00lZNlkJVTLMEH2UiMYt+Nrm1t7ix88O2XiIRqIdPZjYaCCv5YUqTIKmosapyE+yLC/wHtH8VgPsnDhTU6xoERQqqLADpitNW2E5HXBgwYqchgwYMAGOFbSiVGjYsAwtdWKsPcRv/1vtjvgwAgz8OvTEkQrMv8AeKgMg991Y3/hYHxXljxJxOsXdS7H7Miop+akW/kONBwt13ERdzFTGO4JDSysAqkc9K31OR8F8ziLppYo7UmxOzaaWf6UUzIy7iYEgAeZ0AEeROK5ag6DEWBbQ6hRpsQxuNJHUMSdJ+0bHcDDfUpEh1zN6w431yuukHwSMAhfgvxOKyrzRqodktLGfLSXYeYI06PfyxNpHZ9q6xJ1fUQSDctqtdFDRuqKQDpVZWfUe81mNgLAWmQVBMTIxHaxOCbeFgVb3EqfzGFGtyhoHCXHbWBEa95xcna4FidrkeBFjviXkleY5GSbXETHovouwsbqdJ3YDlsCbDzvjdpha18neEgJSXuMG6q7XBHzFiDseuG7hzORUx3sBIu0i+B8R908x8RzBxnqguj3l1PqJDXuBc367kFhfyIIsNtUzgqpb1xNPJw4ceQBP5OAL+Z8cZSbi7CSujS8GDBj1EgwYMGADC3xNmLMWp4m02W80gNtCHfSD0Zhvfou/UYYycItNWD1Zb2LzfSSE9b2Z7/d5J7rDpiVWaijqKuV+XxhalqYACJijOOlogWC/FiL+QOJGZsrShwLiOVn3Ox7MDb3FowvvfHARteZ2kSMqQ+t9rSWbTHa25KsSwHIPyuBinGbMZFMYFlAAMg7usi7MehbUSQOWwNtsRV1ZbCjdydxCWUKXGlXjZB3gSBqXUPE90WDW32vY3Ar3qDJIZJkbsr6gi7KAdluSbWCqBz6e+8mfLpYWE0qLKGsVc+wQd9iBYXvsCB5DF5RS08o2gdJRyaMojjxKlXDMPgfMYxK2BvE40lVAV7tPGq25ugf/CgN/iwx9pKMynTTrpN93j1RBfgjWH8Rv91sSVzRYHtUxxzp0mCJ2o/Etu97138sO1JMjorRkFGAKkcrY7hFTyZzJtbDlltK0cao0jSMObtzOJWDBj0kgwYMGADBgwYAMGDBgAxBr8ngm3kiVj9rk38wsfzxOwYAX5eGaKMGR0sq7ktI+kDzu1vniL69Gw0xskEH2UKrI/vt7APl3vNeWGSrpUlUpIiuh5qwBH54op+CqQm6qyfha/8AmBtjiUX9J0nvKybO4oU0xRqD9nVe3m2na/8AFc4hNRzVMTSzFViVSytLZUJttpFthy77X57at8XNfQ0VCgkePWxNk1km7dOfdW3O9vnsMVUmfxMwklcSuN1ASTs4/wAK2GpvvsQfCw2xJq2Z3e+RRQ5VPKAyxMqjxY973BnDdB9a2wx7opZ6OUyAL2jWGi6FtI53UElQbDceGLSTOKmpJjgDaeRKKA3xJLBB7yD7sX2Q8JJF35QGf7P1R/zfIDyuL4xRbeAbtmc6DjqBjplV4m92ofkNXxKgYY6OtjlXVE6uvipB+fgfLHPMqGGRT26IygE3cDujqbnl78YXUVklVWMmViSKMD2+0KkIObtITeNPIm/xNhdKRtOl+5lhY/QGPjMALk2A6nGK5FNXUcupqt3Y3vE7GRX8xqa9iBcN3Cdrahthy4ephXgyVFRI7KbGAdwJ4Xtubjkw09QeWGmr2RzOCi8Hctc+4wghUiNlkl6KLlee5JGxAHgflhHgqaly5hSwZtV9PLfVZQ5tp1Em2/y2xpTZDTdmYhCgQ87Cxv46hvq873wlZlkU9E2uIlor+1a9h99R/mG34cSqxk8RBoh0fCMsrG7hnsWOq9gTfnfvBiR4db74kZfWGF+wni2FtrAEeG3slfMH54slzssqkgBhyK6gR+E2Km/gWF+oxYQ1VPWaYp7dqPYZTZj42IOx8V3Bt15Cd4N22nWKR5Mmi7QgBT7UZH0T358rgE/aX4g47UeWUlSpKKUIPeTbun8JBUDwI2wf9kF6SsR95Iyfnpt+WJ+U8Pw07a0DayLFibXH4Vsn+HFIwnpa1rHLatgFPw9Cuw1W8iF/NApxY01OkahUUKovsBbc7k+8k3Jx1wYqoqOSOG2wwYMGOjAwYMGADBgwYAMGDBgAwYMGADBgwYA+EYjNl0JNzFGT4lF/4YlYMAfEUAWAAHgMfccqmoSNdTsFUdWNhhdhMbEineWdidvp5mjXx1trK2G3d3byPTGwVfpMzCWUJltL3qio9sA+xCOZY/VBJA92ocyMV/B/DqlOxhY9mGvLMBYs31dP3ytmub6AQB3iSXGg4ejgjm7K3bzA65WG5Yg25eygJ2UbD33Jn5Vl6QRJCg7qC3mT1J8yd8HiVdTV0UcxksAhMAiXs25i3M+JPMt97nhGzjKHpm7SJiChAD37yE+zf7UT8t72N13540jETMMvSYENcbFbjnpPMG9wQfAgj4jHFSmpLicRlZnHIs2SpiWRSNVhrUHdG6gjmN8TpplQXZgo8SQB+eKCDg6AIiO0r6CSp7RkYaiSbGMqeZ8cRa30cZdKdUkLs32mnnZvm0hx2uJqUNrfp+T3WZrlAYl56QP1IkQNfz0m/wA8d8rmy2dx2D08sinUAHVmBHW1ydvHCXnnodX2qScqfsTbj4OouB71bE/0dcLSUchWpoUL3JSqV1e3lpY6l8NSqL9fE7oxzLShS0LxliaPgwYMDzBgwYMAGDBgwAYMGDABgwYMAGDBgwAYMGDABgwYMAGDBgwB5kjDbMAR5i+PoGDBgD7gwYMAGDBgwAYMGDABgwYMAGDBgwAYMGDABgwYMAGDBgwB/9k=)\n",
        "#Variables aleatorias\n",
        "##Fecha: 25/03/2025\n",
        "##Alumno: Lucero Rodríguez Coyoli\n",
        "##No. de Control: 24041227\n",
        "##Grupo: 2Z\n",
        "##Pràctica 1: Ejercicios de valor esperado\n",
        "##Unidad III"
      ],
      "metadata": {
        "id": "9eIBwMfuyzYH"
      }
    },
    {
      "cell_type": "markdown",
      "source": [
        "### Ejercicio 1\n",
        "Annie está participando en un torneo de la Serie Mundial de pöquer, donde el ganador se lleva todo y la inscripción cuesta 10 mil dólares. El premio por ganar el torneo es de 500 mil dólares. Annie estima que tiene una probabilidad del 0.5% de ganar el torneo.\n",
        "\n",
        "Halla el valor esperado de que Annie se inscriba en el torneo."
      ],
      "metadata": {
        "id": "5CIBPqZ6y4Bd"
      }
    },
    {
      "cell_type": "code",
      "execution_count": 1,
      "metadata": {
        "colab": {
          "base_uri": "https://localhost:8080/"
        },
        "id": "n0VTzxc2ypuR",
        "outputId": "fe255c1f-f065-4a36-de57-69ecc460ddfa"
      },
      "outputs": [
        {
          "output_type": "stream",
          "name": "stdout",
          "text": [
            "El valor esperado de inscribirse en el torneo es: -7500.0 dólares\n"
          ]
        }
      ],
      "source": [
        "# Definir probabilidades y ganancias/pérdidas\n",
        "prob_ganar = 0.005\n",
        "prob_perder = 0.995\n",
        "\n",
        "ganancia_ganar = 500000 - 10000  # Premio menos costo de inscripción\n",
        "perdida_perder = -10000  # Costo de inscripción si pierde\n",
        "\n",
        "# Calcular el valor esperado\n",
        "valor_esperado = (prob_ganar * ganancia_ganar) + (prob_perder * perdida_perder)\n",
        "\n",
        "# Mostrar el resultado\n",
        "print(f\"El valor esperado de inscribirse en el torneo es: {valor_esperado} dólares\")"
      ]
    },
    {
      "cell_type": "markdown",
      "source": [
        "### Ejercicio 2\n",
        "Alice está en el tren camino a su trabajo en Paris, Francia. Por equivocación, compró un boleto para la zona 4, pero viaja hasta la zona 5, Ha decidido arriesgarse y permanecer en el tren hasta llegar a la zona 5 con el boleto incorrecto. Si las autoridades de tránsito revisan los boletos. tendrá que pagar una multa.\n",
        "\n",
        "Alice estima que hay un 5% de probabilidad de que las autoridades de tránsito revisen los boletos. La multa por tener el boleto incorrecto es de 300 euras. El boleto que compró le costó 5 euros.\n",
        "\n",
        "Halla el costo total esperado del viaje en tren de Alice."
      ],
      "metadata": {
        "id": "EODWX5sgzDKn"
      }
    },
    {
      "cell_type": "code",
      "source": [
        "# Definir probabilidades y costos\n",
        "prob_no_revision = 0.95\n",
        "prob_revision = 0.05\n",
        "\n",
        "costo_boleto = 5\n",
        "multa = 300\n",
        "costo_con_multa = costo_boleto + multa  # 305 euros si la revisan\n",
        "\n",
        "# Calcular el costo esperado del viaje\n",
        "costo_esperado = (prob_no_revision * costo_boleto) + (prob_revision * costo_con_multa)\n",
        "\n",
        "# Mostrar el resultado\n",
        "print(f\"El costo total esperado del viaje de Alice es: {costo_esperado} euros\")"
      ],
      "metadata": {
        "colab": {
          "base_uri": "https://localhost:8080/"
        },
        "id": "muvWgp59zKmH",
        "outputId": "419103f0-9870-4e03-8f87-b5e9e3961e58"
      },
      "execution_count": 2,
      "outputs": [
        {
          "output_type": "stream",
          "name": "stdout",
          "text": [
            "El costo total esperado del viaje de Alice es: 20.0 euros\n"
          ]
        }
      ]
    },
    {
      "cell_type": "markdown",
      "source": [
        "### Ejercicio 3\n",
        "Valor esperado\n",
        "\n",
        "El valor esperado de un dado justo de 6 caras es de 3.5.\n",
        "\n",
        "¿Cuál de los siguientes enunciados es verdadero?\n",
        "\n",
        "Elige todas las respuestas adecuadas:\n",
        "\n",
        "Un dado justo de 6 caras tiene más probabilidades de caer en el número 4 que en el número 6\n",
        "\n",
        "3.5 es uno de los resultados posibles al lanzar un dado justo de 6 caras\n",
        "\n",
        "Si lanzaras un dado justo de 6 caras un gran número de veces, deberias esperar que el promedio de los números fuera más o menos 3.5"
      ],
      "metadata": {
        "id": "uCrdb_bxzOZG"
      }
    },
    {
      "cell_type": "code",
      "source": [
        "import random\n",
        "\n",
        "# Número de lanzamientos del dado\n",
        "num_lanzamientos = 1000000  # Un millón de lanzamientos para mayor precisión\n",
        "\n",
        "# Simulación de lanzamientos y cálculo del promedio\n",
        "suma_resultados = sum(random.randint(1, 6) for _ in range(num_lanzamientos))\n",
        "promedio = suma_resultados / num_lanzamientos\n",
        "\n",
        "# Mostrar el resultado\n",
        "print(f\"El promedio de los lanzamientos es: {promedio}\")"
      ],
      "metadata": {
        "colab": {
          "base_uri": "https://localhost:8080/"
        },
        "id": "aQ2wokKrzVCe",
        "outputId": "d797c9e5-c560-4106-eae3-279de9d0b8dd"
      },
      "execution_count": 3,
      "outputs": [
        {
          "output_type": "stream",
          "name": "stdout",
          "text": [
            "El promedio de los lanzamientos es: 3.498279\n"
          ]
        }
      ]
    },
    {
      "cell_type": "markdown",
      "source": [
        "### Ejercicio 4\n",
        "Ivy estä en Las Vegas y apostó que su equipo favorito, los Dragones de Denver, vencerá a las Tortugas Marinas de Seattle.\n",
        "\n",
        "Si ganan los Dragones de Denver, ella ganará 10 dólares. Si ganan las Tortugas Marinas de Seattle, perderá 11 dólares (el dólar extra es por la comisión). Ivy estima que hay un 50% de probabilidad de que ganen los Dragones de Denver (no puede haber empate).\n",
        "\n",
        "Halla el rendimiento esperado de hacer esta apuesta."
      ],
      "metadata": {
        "id": "UXynIzvDzZT3"
      }
    },
    {
      "cell_type": "code",
      "source": [
        "# Definir probabilidades y ganancias/pérdidas\n",
        "prob_ganar = 0.5\n",
        "prob_perder = 0.5\n",
        "\n",
        "ganancia = 10\n",
        "perdida = -11\n",
        "\n",
        "# Calcular el valor esperado de la apuesta\n",
        "valor_esperado = (prob_ganar * ganancia) + (prob_perder * perdida)\n",
        "\n",
        "# Mostrar el resultado\n",
        "print(f\"El rendimiento esperado de la apuesta es: {valor_esperado} dólares\")"
      ],
      "metadata": {
        "colab": {
          "base_uri": "https://localhost:8080/"
        },
        "id": "iinfx9jczeiu",
        "outputId": "c18fbda7-e0af-45a8-c5ae-685a5c42d4a4"
      },
      "execution_count": 4,
      "outputs": [
        {
          "output_type": "stream",
          "name": "stdout",
          "text": [
            "El rendimiento esperado de la apuesta es: -0.5 dólares\n"
          ]
        }
      ]
    }
  ]
}